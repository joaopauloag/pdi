{
 "cells": [
  {
   "cell_type": "markdown",
   "metadata": {
    "id": "JQ_ZYnyq4sU_"
   },
   "source": [
    "# NumPy Tutorial"
   ]
  },
  {
   "cell_type": "code",
   "execution_count": 1,
   "metadata": {
    "id": "XCDgDmba5Bbu"
   },
   "outputs": [],
   "source": [
    "import numpy as np"
   ]
  },
  {
   "cell_type": "markdown",
   "metadata": {
    "id": "IdZZqUF042tA"
   },
   "source": [
    "## NumPy Array"
   ]
  },
  {
   "cell_type": "markdown",
   "metadata": {
    "id": "KyddHDAB654M"
   },
   "source": [
    "How to create an empty and a full NumPy array?"
   ]
  },
  {
   "cell_type": "code",
   "execution_count": 2,
   "metadata": {
    "colab": {
     "base_uri": "https://localhost:8080/"
    },
    "id": "kGvLXB0eiBvP",
    "outputId": "77e7f966-5d67-4048-fd4a-1c9e655479fd"
   },
   "outputs": [
    {
     "name": "stdout",
     "output_type": "stream",
     "text": [
      "[]\n"
     ]
    }
   ],
   "source": [
    "v = np.empty(0)\n",
    "print(v)"
   ]
  },
  {
   "cell_type": "code",
   "execution_count": 3,
   "metadata": {
    "colab": {
     "base_uri": "https://localhost:8080/"
    },
    "id": "gDYb89Tj90Ee",
    "outputId": "aa0dd3dd-dac2-457e-b1ba-7ec7f5d8a616"
   },
   "outputs": [
    {
     "name": "stdout",
     "output_type": "stream",
     "text": [
      "[[7 7 7 7 7]\n",
      " [7 7 7 7 7]]\n"
     ]
    }
   ],
   "source": [
    "v = np.full(shape=(2,5), fill_value=7)\n",
    "print(v)"
   ]
  },
  {
   "cell_type": "markdown",
   "metadata": {
    "id": "acyoMCar7UX4"
   },
   "source": [
    "Create a Numpy array filled with all zeros"
   ]
  },
  {
   "cell_type": "code",
   "execution_count": 4,
   "metadata": {
    "colab": {
     "base_uri": "https://localhost:8080/"
    },
    "id": "oKuLpbS_8LA6",
    "outputId": "378d4eab-ec9c-4323-d1c7-0e92f45c39e6"
   },
   "outputs": [
    {
     "name": "stdout",
     "output_type": "stream",
     "text": [
      "[[0. 0. 0. 0. 0.]\n",
      " [0. 0. 0. 0. 0.]]\n"
     ]
    }
   ],
   "source": [
    "v = np.zeros((2,5))\n",
    "print(v)"
   ]
  },
  {
   "cell_type": "markdown",
   "metadata": {
    "id": "zD-dl2s07Wj9"
   },
   "source": [
    "Create a Numpy array filled with all ones"
   ]
  },
  {
   "cell_type": "code",
   "execution_count": 5,
   "metadata": {
    "colab": {
     "base_uri": "https://localhost:8080/"
    },
    "id": "2ZRsmAD88W5K",
    "outputId": "8de7b2c0-571a-44db-817c-dc798049c01e"
   },
   "outputs": [
    {
     "name": "stdout",
     "output_type": "stream",
     "text": [
      "[[1. 1. 1. 1. 1.]\n",
      " [1. 1. 1. 1. 1.]]\n"
     ]
    }
   ],
   "source": [
    "v = np.ones((2,5))\n",
    "print(v)"
   ]
  },
  {
   "cell_type": "markdown",
   "metadata": {
    "id": "Ylck_MeB7WpF"
   },
   "source": [
    "Check whether a Numpy array contains a specified row"
   ]
  },
  {
   "cell_type": "code",
   "execution_count": 6,
   "metadata": {
    "colab": {
     "base_uri": "https://localhost:8080/"
    },
    "id": "xxK_gKmE8dKF",
    "outputId": "fd16db32-4fcf-4339-d24b-db738208d440"
   },
   "outputs": [
    {
     "data": {
      "text/plain": [
       "True"
      ]
     },
     "execution_count": 6,
     "metadata": {},
     "output_type": "execute_result"
    }
   ],
   "source": [
    "[1, 1, 1, 1, 1] in v.tolist()"
   ]
  },
  {
   "cell_type": "markdown",
   "metadata": {
    "id": "vdYD4Yb97Wsb"
   },
   "source": [
    "How to Remove rows in Numpy array that contains non-numeric values?"
   ]
  },
  {
   "cell_type": "code",
   "execution_count": 7,
   "metadata": {
    "colab": {
     "base_uri": "https://localhost:8080/"
    },
    "id": "hFQhbuf1-E68",
    "outputId": "7564f078-716d-4ce0-e624-88608bd24e80"
   },
   "outputs": [
    {
     "name": "stdout",
     "output_type": "stream",
     "text": [
      "[[0. 1. 2.]\n",
      " [5. 6. 7.]]\n"
     ]
    }
   ],
   "source": [
    "v = np.array([[0, 1, 2],\n",
    "              [np.nan, 3, 4],\n",
    "              [5, 6, 7]\n",
    "])\n",
    "v = v[~np.isnan(v).any(axis=1)]\n",
    "print(v)"
   ]
  },
  {
   "cell_type": "markdown",
   "metadata": {
    "id": "Jq27Ka9g7WvD"
   },
   "source": [
    "Remove single-dimensional entries from the shape of an array"
   ]
  },
  {
   "cell_type": "code",
   "execution_count": 8,
   "metadata": {
    "colab": {
     "base_uri": "https://localhost:8080/"
    },
    "id": "h7uh_Azd-ucD",
    "outputId": "ca64781c-14ce-4b56-fbf3-94bd587b5c8c"
   },
   "outputs": [
    {
     "name": "stdout",
     "output_type": "stream",
     "text": [
      "[[1]]\n",
      "1\n"
     ]
    }
   ],
   "source": [
    "v = np.array([[1]])\n",
    "print(v)\n",
    "v = np.squeeze(v, axis=None)\n",
    "print(v)"
   ]
  },
  {
   "cell_type": "markdown",
   "metadata": {
    "id": "rsRYcR5R7WzW"
   },
   "source": [
    "Find the number of occurrences of a sequence in a NumPy array"
   ]
  },
  {
   "cell_type": "code",
   "execution_count": 9,
   "metadata": {
    "colab": {
     "base_uri": "https://localhost:8080/"
    },
    "id": "sCBq03uc_jXD",
    "outputId": "5df1cb6b-c327-4e1b-fb7c-4898adc1dd45"
   },
   "outputs": [
    {
     "data": {
      "text/plain": [
       "3"
      ]
     },
     "execution_count": 9,
     "metadata": {},
     "output_type": "execute_result"
    }
   ],
   "source": [
    "v = np.array([[1, 3, 5, 6],\n",
    "              [5, 3, 5, 8],\n",
    "              [3, 5, 7, 3],\n",
    "              [5, 9, 5, 3]])\n",
    "repr(v).count('3, 5')"
   ]
  },
  {
   "cell_type": "markdown",
   "metadata": {
    "id": "IN87BQTj7W2S"
   },
   "source": [
    "Find the most frequent value in a NumPy array"
   ]
  },
  {
   "cell_type": "code",
   "execution_count": 10,
   "metadata": {
    "colab": {
     "base_uri": "https://localhost:8080/"
    },
    "id": "0tEFL53V_z94",
    "outputId": "4b5859c2-6bdd-4aea-8a3e-a97a3087e5cf"
   },
   "outputs": [
    {
     "data": {
      "text/plain": [
       "5"
      ]
     },
     "execution_count": 10,
     "metadata": {},
     "output_type": "execute_result"
    }
   ],
   "source": [
    "v = np.array([1, 8, 5, 6, 5, 5, 8])\n",
    "np.bincount(v).argmax()"
   ]
  },
  {
   "cell_type": "markdown",
   "metadata": {
    "id": "yMY1Z2Wu7W5P"
   },
   "source": [
    "Combining a one and a two-dimensional NumPy Array"
   ]
  },
  {
   "cell_type": "code",
   "execution_count": 11,
   "metadata": {
    "colab": {
     "base_uri": "https://localhost:8080/"
    },
    "id": "IzX559K7AEH6",
    "outputId": "d164a5b6-d181-47d1-d723-df161747a2b6"
   },
   "outputs": [
    {
     "name": "stdout",
     "output_type": "stream",
     "text": [
      "[1 3] \n",
      "\n",
      "[[ 2  4  6]\n",
      " [ 8 10 12]] \n",
      "\n",
      "[[ 1  2  4  6]\n",
      " [ 3  8 10 12]]\n"
     ]
    }
   ],
   "source": [
    "v1 = np.array([1, 3])\n",
    "v2 = np.array([[2, 4, 6],[8, 10, 12]])\n",
    "v3 = np.c_[v1, v2]\n",
    "\n",
    "print(v1, '\\n')\n",
    "print(v2, '\\n')\n",
    "print(v3)"
   ]
  },
  {
   "cell_type": "markdown",
   "metadata": {
    "id": "1EY4_4KW7oYv"
   },
   "source": [
    "How to build an array of all combinations of two NumPy arrays?"
   ]
  },
  {
   "cell_type": "code",
   "execution_count": 12,
   "metadata": {
    "colab": {
     "base_uri": "https://localhost:8080/"
    },
    "id": "r6QRVo09CT6i",
    "outputId": "2d0e1c44-9b87-4b8e-b766-5eeb49898d31"
   },
   "outputs": [
    {
     "name": "stdout",
     "output_type": "stream",
     "text": [
      "[[1 2]\n",
      " [1 4]\n",
      " [1 6]\n",
      " [2 2]\n",
      " [2 4]\n",
      " [2 6]\n",
      " [3 2]\n",
      " [3 4]\n",
      " [3 6]]\n"
     ]
    }
   ],
   "source": [
    "v1 = np.array([1, 2, 3])\n",
    "v2 = np.array([2, 4, 6])\n",
    "v3 = np.array(np.meshgrid(v1, v2)).T.reshape(-1,2)\n",
    "print(v3)"
   ]
  },
  {
   "cell_type": "markdown",
   "metadata": {
    "id": "hLsabZPP7ocS"
   },
   "source": [
    "How to add a border around a NumPy array?"
   ]
  },
  {
   "cell_type": "code",
   "execution_count": 13,
   "metadata": {
    "colab": {
     "base_uri": "https://localhost:8080/"
    },
    "id": "URfeADC4ETIr",
    "outputId": "08a0173b-5647-4e8a-f2f4-4151fa8c9aed"
   },
   "outputs": [
    {
     "name": "stdout",
     "output_type": "stream",
     "text": [
      "[[0. 0. 0. 0.]\n",
      " [0. 1. 1. 0.]\n",
      " [0. 1. 1. 0.]\n",
      " [0. 0. 0. 0.]]\n"
     ]
    }
   ],
   "source": [
    "v = np.ones((2,2))\n",
    "v = np.pad(v, pad_width=1)\n",
    "print(v)"
   ]
  },
  {
   "cell_type": "markdown",
   "metadata": {
    "id": "g7jAG3WM7ogH"
   },
   "source": [
    "How to compare two NumPy arrays?"
   ]
  },
  {
   "cell_type": "code",
   "execution_count": 14,
   "metadata": {
    "colab": {
     "base_uri": "https://localhost:8080/"
    },
    "id": "ceVDAeP4E5_a",
    "outputId": "d005bd3e-5e38-419d-8c14-f178e8dedf0a"
   },
   "outputs": [
    {
     "name": "stdout",
     "output_type": "stream",
     "text": [
      "[False  True False]\n"
     ]
    }
   ],
   "source": [
    "v1 = np.ones((3))\n",
    "v2 = np.array([0,1,2])\n",
    "print(np.equal(v1, v2))"
   ]
  },
  {
   "cell_type": "markdown",
   "metadata": {
    "id": "0oWSxp3a7oja"
   },
   "source": [
    "How to check whether specified values are present in NumPy array?"
   ]
  },
  {
   "cell_type": "code",
   "execution_count": 15,
   "metadata": {
    "colab": {
     "base_uri": "https://localhost:8080/"
    },
    "id": "cgZhn4nqFjCS",
    "outputId": "8ef089bc-d02c-423c-f1c6-5770171224da"
   },
   "outputs": [
    {
     "name": "stdout",
     "output_type": "stream",
     "text": [
      "True\n",
      "False\n"
     ]
    }
   ],
   "source": [
    "v = np.arange(10)\n",
    "print(2 in v)\n",
    "print(15 in v)"
   ]
  },
  {
   "cell_type": "markdown",
   "metadata": {
    "id": "mI9Jbhd77omK"
   },
   "source": [
    "How to get all 2D diagonals of a 3D NumPy array?"
   ]
  },
  {
   "cell_type": "code",
   "execution_count": 16,
   "metadata": {
    "colab": {
     "base_uri": "https://localhost:8080/"
    },
    "id": "o0Z4bIwSF2Nt",
    "outputId": "20f08fc0-1ee7-455d-8c99-72bb73eefb89"
   },
   "outputs": [
    {
     "name": "stdout",
     "output_type": "stream",
     "text": [
      "Matriz 3d:\n",
      "[[[ 1  2  3]\n",
      "  [ 4  5  6]\n",
      "  [ 7  8  9]]\n",
      "\n",
      " [[-1 -2 -3]\n",
      "  [-4 -5 -6]\n",
      "  [-7 -8 -9]]]\n",
      "\n",
      "Diagonais: linha 0 eixos 0 e 1:\n",
      "[[ 1 -4]\n",
      " [ 2 -5]\n",
      " [ 3 -6]]\n",
      "\n",
      "Diagonais: linha 1 eixos 0 e 1:\n",
      "[[ 4 -7]\n",
      " [ 5 -8]\n",
      " [ 6 -9]]\n",
      "\n",
      "Diagonais: linha 0 eixos 0 e 2:\n",
      "[[ 1 -2]\n",
      " [ 4 -5]\n",
      " [ 7 -8]]\n",
      "\n",
      "Diagonais: linha 1 eixos 0 e 2:\n",
      "[[ 2 -3]\n",
      " [ 5 -6]\n",
      " [ 8 -9]]\n",
      "\n",
      "Diagonais: linha 0 eixos 1 e 2:\n",
      "[[ 1  5  9]\n",
      " [-1 -5 -9]]\n",
      "\n",
      "Diagonais: linha 1 eixos 1 e 2:\n",
      "[[ 2  6]\n",
      " [-2 -6]]\n",
      "\n"
     ]
    }
   ],
   "source": [
    "v = np.array([[[1, 2, 3],\n",
    "               [4, 5, 6],\n",
    "               [7, 8, 9]],\n",
    "              [[-1, -2, -3],\n",
    "               [-4, -5, -6],\n",
    "               [-7, -8, -9]]])\n",
    "\n",
    "print(f'Matriz 3d:\\n{v}\\n')\n",
    "\n",
    "print(f'Diagonais: linha 0 eixos 0 e 1:\\n{v.diagonal(offset=0, axis1=0,axis2=1)}\\n')\n",
    "print(f'Diagonais: linha 1 eixos 0 e 1:\\n{v.diagonal(offset=1, axis1=0,axis2=1)}\\n')\n",
    "\n",
    "print(f'Diagonais: linha 0 eixos 0 e 2:\\n{v.diagonal(offset=0, axis1=0,axis2=2)}\\n')\n",
    "print(f'Diagonais: linha 1 eixos 0 e 2:\\n{v.diagonal(offset=1, axis1=0,axis2=2)}\\n')\n",
    "\n",
    "print(f'Diagonais: linha 0 eixos 1 e 2:\\n{v.diagonal(offset=0, axis1=1,axis2=2)}\\n')\n",
    "print(f'Diagonais: linha 1 eixos 1 e 2:\\n{v.diagonal(offset=1, axis1=1,axis2=2)}\\n')"
   ]
  },
  {
   "cell_type": "markdown",
   "metadata": {
    "id": "6sGmhkH27oo0"
   },
   "source": [
    "Flatten a Matrix in Python using NumPy"
   ]
  },
  {
   "cell_type": "code",
   "execution_count": 17,
   "metadata": {
    "colab": {
     "base_uri": "https://localhost:8080/"
    },
    "id": "vI2m56pELCUK",
    "outputId": "c3cbf8ee-65a6-49e7-cf24-ef62b8ea8416"
   },
   "outputs": [
    {
     "name": "stdout",
     "output_type": "stream",
     "text": [
      "[[[1 2]\n",
      "  [3 4]]\n",
      "\n",
      " [[5 6]\n",
      "  [7 8]]] \n",
      "\n",
      "[1 2 3 4 5 6 7 8]\n"
     ]
    }
   ],
   "source": [
    "v = np.array([[[1, 2],[3,4]],\n",
    "              [[5, 6], [7,8]]])\n",
    "print(v, '\\n')\n",
    "v = v.flatten()\n",
    "print(v)"
   ]
  },
  {
   "cell_type": "markdown",
   "metadata": {
    "id": "8OTfPHUV7orh"
   },
   "source": [
    "Flatten a 2d numpy array into 1d array"
   ]
  },
  {
   "cell_type": "code",
   "execution_count": 18,
   "metadata": {
    "colab": {
     "base_uri": "https://localhost:8080/"
    },
    "id": "MqaBmVo-LpZv",
    "outputId": "68d92e50-1c81-4509-af97-050df53f4b63"
   },
   "outputs": [
    {
     "name": "stdout",
     "output_type": "stream",
     "text": [
      "[[1. 1. 1. 1.]\n",
      " [1. 1. 1. 1.]\n",
      " [1. 1. 1. 1.]] \n",
      "\n",
      "[1. 1. 1. 1. 1. 1. 1. 1. 1. 1. 1. 1.]\n"
     ]
    }
   ],
   "source": [
    "v = np.ones((3,4))\n",
    "print(v, '\\n')\n",
    "v = v.flatten()\n",
    "print(v)"
   ]
  },
  {
   "cell_type": "markdown",
   "metadata": {
    "id": "1uKcq-Y57ouZ"
   },
   "source": [
    "Move axes of an array to new positions"
   ]
  },
  {
   "cell_type": "code",
   "execution_count": 19,
   "metadata": {
    "colab": {
     "base_uri": "https://localhost:8080/"
    },
    "id": "jrZ90uNdM2Kh",
    "outputId": "447fa5d0-6895-43f3-d72f-a83da9cc401e"
   },
   "outputs": [
    {
     "name": "stdout",
     "output_type": "stream",
     "text": [
      "[[[ 0  1  2]\n",
      "  [ 3  4  5]\n",
      "  [ 6  7  8]]\n",
      "\n",
      " [[ 9 10 11]\n",
      "  [12 13 14]\n",
      "  [15 16 17]]] \n",
      "\n",
      "Movidos eixos 1 e 0:\n",
      "[[[ 0  1  2]\n",
      "  [ 9 10 11]]\n",
      "\n",
      " [[ 3  4  5]\n",
      "  [12 13 14]]\n",
      "\n",
      " [[ 6  7  8]\n",
      "  [15 16 17]]]\n"
     ]
    }
   ],
   "source": [
    "v = np.arange(18).reshape(2, 3, 3)\n",
    "print(v, '\\n')\n",
    "v = np.moveaxis(v, source=1, destination=0)\n",
    "print(f'Movidos eixos 1 e 0:\\n{v}')"
   ]
  },
  {
   "cell_type": "markdown",
   "metadata": {
    "id": "3ackaE1R7oyg"
   },
   "source": [
    "Interchange two axes of an array"
   ]
  },
  {
   "cell_type": "code",
   "execution_count": 20,
   "metadata": {
    "colab": {
     "base_uri": "https://localhost:8080/"
    },
    "id": "N2NOqQWWOJ8s",
    "outputId": "7f5ad48d-6c56-4688-9c8e-3343ed12b7b9"
   },
   "outputs": [
    {
     "name": "stdout",
     "output_type": "stream",
     "text": [
      "[[[ 0  1  2]\n",
      "  [ 3  4  5]\n",
      "  [ 6  7  8]]\n",
      "\n",
      " [[ 9 10 11]\n",
      "  [12 13 14]\n",
      "  [15 16 17]]] \n",
      "\n",
      "Eixos intercambiados: 1 e 0\n",
      "[[[ 0  1  2]\n",
      "  [ 9 10 11]]\n",
      "\n",
      " [[ 3  4  5]\n",
      "  [12 13 14]]\n",
      "\n",
      " [[ 6  7  8]\n",
      "  [15 16 17]]]\n"
     ]
    }
   ],
   "source": [
    "v = np.arange(18).reshape(2, 3, 3)\n",
    "print(v, '\\n')\n",
    "v = np.swapaxes(v, axis1=1, axis2=0)\n",
    "print(f'Eixos intercambiados: 1 e 0\\n{v}')"
   ]
  },
  {
   "cell_type": "markdown",
   "metadata": {
    "id": "NIvT0ZHN7o2C"
   },
   "source": [
    "NumPy – Fibonacci Series using Binet Formula"
   ]
  },
  {
   "cell_type": "code",
   "execution_count": 21,
   "metadata": {
    "colab": {
     "base_uri": "https://localhost:8080/"
    },
    "id": "M4XYhIGrPl7h",
    "outputId": "e5b92499-6fa4-4c1e-9921-c3811488b803"
   },
   "outputs": [
    {
     "name": "stdout",
     "output_type": "stream",
     "text": [
      "[ 1.  1.  2.  3.  5.  8. 13. 21. 34. 55.]\n"
     ]
    }
   ],
   "source": [
    "v = np.arange(1, 11)\n",
    "\n",
    "sqrtFive = np.sqrt(5)\n",
    "alpha = (1 + sqrtFive) / 2\n",
    "beta = (1 - sqrtFive) / 2\n",
    "\n",
    "Fn = np.rint(((alpha ** v) - (beta ** v)) / (sqrtFive))\n",
    "print(Fn)"
   ]
  },
  {
   "cell_type": "markdown",
   "metadata": {
    "id": "TM7Zc4N47o4g"
   },
   "source": [
    "Counts the number of non-zero values in the array"
   ]
  },
  {
   "cell_type": "code",
   "execution_count": 22,
   "metadata": {
    "colab": {
     "base_uri": "https://localhost:8080/"
    },
    "id": "pe_TgmQhPuYR",
    "outputId": "74f4b75a-2616-48ee-ee0a-37d2601c8a92"
   },
   "outputs": [
    {
     "name": "stdout",
     "output_type": "stream",
     "text": [
      "3\n"
     ]
    }
   ],
   "source": [
    "v = np.array([1, 0, 2, 0, 3, 0])\n",
    "print(np.count_nonzero(v))"
   ]
  },
  {
   "cell_type": "markdown",
   "metadata": {
    "id": "L8vLwB1m7o7W"
   },
   "source": [
    "Count the number of elements along a given axis"
   ]
  },
  {
   "cell_type": "code",
   "execution_count": 23,
   "metadata": {
    "colab": {
     "base_uri": "https://localhost:8080/"
    },
    "id": "Fo3PI3T2QJ_A",
    "outputId": "849af7b7-a858-4b27-92fa-3c772de18a4e"
   },
   "outputs": [
    {
     "name": "stdout",
     "output_type": "stream",
     "text": [
      "[[ 0  1  2]\n",
      " [ 3  4  5]\n",
      " [ 6  7  8]\n",
      " [ 9 10 11]] \n",
      "\n",
      "eixo 0: 4\n",
      "eixo 1: 3\n"
     ]
    }
   ],
   "source": [
    "v = np.arange(12).reshape((4,3))\n",
    "print(v, '\\n')\n",
    "print(f'eixo 0: {np.size(v,0)}')\n",
    "print(f'eixo 1: {np.size(v,1)}')"
   ]
  },
  {
   "cell_type": "markdown",
   "metadata": {
    "id": "2sneuhoq7o98"
   },
   "source": [
    "Trim the leading and/or trailing zeros from a 1-D array"
   ]
  },
  {
   "cell_type": "code",
   "execution_count": 24,
   "metadata": {
    "colab": {
     "base_uri": "https://localhost:8080/"
    },
    "id": "sLhP5fu3QrhH",
    "outputId": "a924a235-06c3-49be-960b-4f0d6eddedfd"
   },
   "outputs": [
    {
     "name": "stdout",
     "output_type": "stream",
     "text": [
      "[0 0 1 2 0 3 0 4 5 0]\n",
      "[1 2 0 3 0 4 5]\n"
     ]
    }
   ],
   "source": [
    "v = np.array([0, 0, 1, 2, 0, 3, 0, 4, 5, 0])\n",
    "print(v)\n",
    "v = np.trim_zeros(v)\n",
    "print(v)"
   ]
  },
  {
   "cell_type": "markdown",
   "metadata": {
    "id": "DNEXdnCI8ACv"
   },
   "source": [
    "Change data type of given numpy array"
   ]
  },
  {
   "cell_type": "code",
   "execution_count": 25,
   "metadata": {
    "colab": {
     "base_uri": "https://localhost:8080/"
    },
    "id": "ne5QOTsjRGIJ",
    "outputId": "34ba7343-640c-4d9c-9562-35db065eb121"
   },
   "outputs": [
    {
     "name": "stdout",
     "output_type": "stream",
     "text": [
      "[ 0  1 -2  0]\n"
     ]
    }
   ],
   "source": [
    "v = np.array([0, 1.5, -2, 0.3]).astype('int')\n",
    "print(v)"
   ]
  },
  {
   "cell_type": "markdown",
   "metadata": {
    "id": "XW8qw5ZY8AHz"
   },
   "source": [
    "Reverse a numpy array"
   ]
  },
  {
   "cell_type": "code",
   "execution_count": 26,
   "metadata": {
    "colab": {
     "base_uri": "https://localhost:8080/"
    },
    "id": "4QyccgdRR4z3",
    "outputId": "fc744c9e-51f8-4ebb-dffc-ffe3abd31cc2"
   },
   "outputs": [
    {
     "name": "stdout",
     "output_type": "stream",
     "text": [
      "[ 0 -2  1  0]\n"
     ]
    }
   ],
   "source": [
    "v = np.flip(v)\n",
    "print(v)"
   ]
  },
  {
   "cell_type": "markdown",
   "metadata": {
    "id": "6DuV7c2Q8AMi"
   },
   "source": [
    "How to make a NumPy array read-only?"
   ]
  },
  {
   "cell_type": "code",
   "execution_count": 27,
   "metadata": {
    "id": "Xe3vL6958Gjs"
   },
   "outputs": [],
   "source": [
    "v.flags.writeable = False"
   ]
  },
  {
   "cell_type": "markdown",
   "metadata": {
    "id": "re5zPRb5S-24"
   },
   "source": [
    "## Questions on NumPy Matrix"
   ]
  },
  {
   "cell_type": "code",
   "execution_count": 28,
   "metadata": {
    "id": "W4uwWezYUI3X"
   },
   "outputs": [],
   "source": [
    "m1 = np.matrix('[1, 5, 4; 6, 9, -3; 5, 4, 7]')\n",
    "m2 = np.matrix('[0, 0, 2; -1, 1, 3; 5, 10, 1]')"
   ]
  },
  {
   "cell_type": "markdown",
   "metadata": {
    "id": "qr6h8n0MTLo5"
   },
   "source": [
    "Get the maximum value from given matrix"
   ]
  },
  {
   "cell_type": "code",
   "execution_count": 29,
   "metadata": {
    "colab": {
     "base_uri": "https://localhost:8080/"
    },
    "id": "_iSSywUehNaf",
    "outputId": "c7aaadc2-9508-4aa0-fc2c-a25d84217343"
   },
   "outputs": [
    {
     "data": {
      "text/plain": [
       "9"
      ]
     },
     "execution_count": 29,
     "metadata": {},
     "output_type": "execute_result"
    }
   ],
   "source": [
    "np.max(m1)"
   ]
  },
  {
   "cell_type": "markdown",
   "metadata": {
    "id": "nuKQma2eTLsH"
   },
   "source": [
    "Get the minimum value from given matrix"
   ]
  },
  {
   "cell_type": "code",
   "execution_count": 30,
   "metadata": {
    "colab": {
     "base_uri": "https://localhost:8080/"
    },
    "id": "4whr9s-UULKg",
    "outputId": "867c690c-a8ad-4402-8018-1e4c739a07c5"
   },
   "outputs": [
    {
     "data": {
      "text/plain": [
       "-3"
      ]
     },
     "execution_count": 30,
     "metadata": {},
     "output_type": "execute_result"
    }
   ],
   "source": [
    "np.min(m1)"
   ]
  },
  {
   "cell_type": "markdown",
   "metadata": {
    "id": "nMHAUzmATLvQ"
   },
   "source": [
    "Find the number of rows and columns of a given matrix using NumPy"
   ]
  },
  {
   "cell_type": "code",
   "execution_count": 31,
   "metadata": {
    "colab": {
     "base_uri": "https://localhost:8080/"
    },
    "id": "FOlu0uKSUM8H",
    "outputId": "b4887eb3-6e71-42e8-815b-72143eafbdec"
   },
   "outputs": [
    {
     "data": {
      "text/plain": [
       "(3, 3)"
      ]
     },
     "execution_count": 31,
     "metadata": {},
     "output_type": "execute_result"
    }
   ],
   "source": [
    "np.shape(m1)"
   ]
  },
  {
   "cell_type": "markdown",
   "metadata": {
    "id": "o4b51qEbTLyS"
   },
   "source": [
    "Select the elements from a given matrix"
   ]
  },
  {
   "cell_type": "code",
   "execution_count": 32,
   "metadata": {
    "colab": {
     "base_uri": "https://localhost:8080/"
    },
    "id": "ccGY4-W3UP_d",
    "outputId": "54d57544-e7d1-4400-a0e8-58464100e886"
   },
   "outputs": [
    {
     "name": "stdout",
     "output_type": "stream",
     "text": [
      "Selecionar os elementos ímpares de m1\n",
      "[[ 1  5  0]\n",
      " [ 0  9 -3]\n",
      " [ 5  0  7]]\n"
     ]
    }
   ],
   "source": [
    "m = np.select([m1%2==1], [m1])\n",
    "\n",
    "print('Selecionar os elementos ímpares de m1')\n",
    "print(m)"
   ]
  },
  {
   "cell_type": "markdown",
   "metadata": {
    "id": "mGJgYcnjTTrv"
   },
   "source": [
    "Find the sum of values in a matrix"
   ]
  },
  {
   "cell_type": "code",
   "execution_count": 33,
   "metadata": {
    "colab": {
     "base_uri": "https://localhost:8080/"
    },
    "id": "xdmuutlKUT9u",
    "outputId": "56863464-b12d-4ccf-a546-5161a6cccd8f"
   },
   "outputs": [
    {
     "data": {
      "text/plain": [
       "38"
      ]
     },
     "execution_count": 33,
     "metadata": {},
     "output_type": "execute_result"
    }
   ],
   "source": [
    "np.sum(m1)"
   ]
  },
  {
   "cell_type": "markdown",
   "metadata": {
    "id": "Tnf4tjjLTTvK"
   },
   "source": [
    "Calculate the sum of the diagonal elements of a NumPy array"
   ]
  },
  {
   "cell_type": "code",
   "execution_count": 34,
   "metadata": {
    "colab": {
     "base_uri": "https://localhost:8080/"
    },
    "id": "5FiCRrj9UV_R",
    "outputId": "68e57fe4-9030-4328-fea4-99b5f5edbd48"
   },
   "outputs": [
    {
     "data": {
      "text/plain": [
       "17"
      ]
     },
     "execution_count": 34,
     "metadata": {},
     "output_type": "execute_result"
    }
   ],
   "source": [
    "np.trace(m1)"
   ]
  },
  {
   "cell_type": "markdown",
   "metadata": {
    "id": "2AGfPd_cTT2B"
   },
   "source": [
    "Adding and Subtracting Matrices in Python"
   ]
  },
  {
   "cell_type": "code",
   "execution_count": 35,
   "metadata": {
    "colab": {
     "base_uri": "https://localhost:8080/"
    },
    "id": "6nVrRPTAUYcZ",
    "outputId": "3e96112a-2128-4a2e-ddb7-7f609c93a913"
   },
   "outputs": [
    {
     "name": "stdout",
     "output_type": "stream",
     "text": [
      "m1 + m2 =\n",
      "[[ 1  5  6]\n",
      " [ 5 10  0]\n",
      " [10 14  8]]\n",
      "\n",
      "m1 - m2 =\n",
      "[[ 1  5  2]\n",
      " [ 7  8 -6]\n",
      " [ 0 -6  6]]\n"
     ]
    }
   ],
   "source": [
    "soma = m1 + m2\n",
    "subtracao = m1 - m2\n",
    "\n",
    "print(f'm1 + m2 =\\n{soma}\\n')\n",
    "print(f'm1 - m2 =\\n{subtracao}')"
   ]
  },
  {
   "cell_type": "markdown",
   "metadata": {
    "id": "t41YdlgKTT5d"
   },
   "source": [
    "Ways to add row/columns in numpy array"
   ]
  },
  {
   "cell_type": "code",
   "execution_count": 36,
   "metadata": {
    "colab": {
     "base_uri": "https://localhost:8080/"
    },
    "id": "PIH0kwcEUaMZ",
    "outputId": "e2349c13-6dad-4654-df93-41270e59c00d"
   },
   "outputs": [
    {
     "name": "stdout",
     "output_type": "stream",
     "text": [
      "[[ 1  5  4]\n",
      " [ 6  9 -3]\n",
      " [ 5  4  7]\n",
      " [10 20 30]]\n"
     ]
    }
   ],
   "source": [
    "row = np.array([10, 20, 30])\n",
    "m = np.r_[m1, [row]]\n",
    "\n",
    "print(m)"
   ]
  },
  {
   "cell_type": "code",
   "execution_count": 37,
   "metadata": {
    "colab": {
     "base_uri": "https://localhost:8080/"
    },
    "id": "1cG3mrfXpitO",
    "outputId": "0cc7e1e4-a659-4e22-8c52-dea99b38341d"
   },
   "outputs": [
    {
     "name": "stdout",
     "output_type": "stream",
     "text": [
      "[[ 1  5  4 10]\n",
      " [ 6  9 -3 20]\n",
      " [ 5  4  7 30]]\n"
     ]
    }
   ],
   "source": [
    "col = np.array([[10], [20], [30]])\n",
    "m = np.append(m1, col, axis = 1)\n",
    "\n",
    "print(m)"
   ]
  },
  {
   "cell_type": "markdown",
   "metadata": {
    "id": "jK4catXuTUAA"
   },
   "source": [
    "Matrix Multiplication in NumPy"
   ]
  },
  {
   "cell_type": "code",
   "execution_count": 38,
   "metadata": {
    "colab": {
     "base_uri": "https://localhost:8080/"
    },
    "id": "O3fdww1TUcMm",
    "outputId": "5e00efaf-6a6c-4005-c214-6e6b2d50420d"
   },
   "outputs": [
    {
     "name": "stdout",
     "output_type": "stream",
     "text": [
      "m1 * m2 =\n",
      "[[ 15  45  21]\n",
      " [-24 -21  36]\n",
      " [ 31  74  29]]\n"
     ]
    }
   ],
   "source": [
    "multiplicacao = m1 @ m2\n",
    "\n",
    "print(f'm1 * m2 =\\n{multiplicacao}')"
   ]
  },
  {
   "cell_type": "markdown",
   "metadata": {
    "id": "wUhvXK7aTUDD"
   },
   "source": [
    "Get the eigen values of a matrix"
   ]
  },
  {
   "cell_type": "code",
   "execution_count": 39,
   "metadata": {
    "colab": {
     "base_uri": "https://localhost:8080/"
    },
    "id": "S-udFeN9UeeR",
    "outputId": "98058ce6-8dd1-4bfe-ede8-c013b2851016"
   },
   "outputs": [
    {
     "name": "stdout",
     "output_type": "stream",
     "text": [
      "[-2.94662399+0.j          9.97331199+0.55520141j  9.97331199-0.55520141j]\n"
     ]
    }
   ],
   "source": [
    "eigen_values = np.linalg.eigvals(m1)\n",
    "\n",
    "print(eigen_values)"
   ]
  },
  {
   "cell_type": "markdown",
   "metadata": {
    "id": "Xkc0MOd5TUJE"
   },
   "source": [
    "How to Calculate the determinant of a matrix using NumPy?"
   ]
  },
  {
   "cell_type": "code",
   "execution_count": 40,
   "metadata": {
    "colab": {
     "base_uri": "https://localhost:8080/"
    },
    "id": "lh60aJw3UgNk",
    "outputId": "c8bcc286-f705-4f3a-ccd9-e220c608721a"
   },
   "outputs": [
    {
     "data": {
      "text/plain": [
       "-293.99999999999994"
      ]
     },
     "execution_count": 40,
     "metadata": {},
     "output_type": "execute_result"
    }
   ],
   "source": [
    "np.linalg.det(m1)"
   ]
  },
  {
   "cell_type": "markdown",
   "metadata": {
    "id": "p_nnyF6OTUMI"
   },
   "source": [
    "How to inverse a matrix using NumPy"
   ]
  },
  {
   "cell_type": "code",
   "execution_count": 41,
   "metadata": {
    "colab": {
     "base_uri": "https://localhost:8080/"
    },
    "id": "Snv9CgR-UiGR",
    "outputId": "ae02608d-e0f9-4021-8368-ee47ba037c82"
   },
   "outputs": [
    {
     "name": "stdout",
     "output_type": "stream",
     "text": [
      "[[-0.25510204  0.06462585  0.17346939]\n",
      " [ 0.19387755  0.04421769 -0.09183673]\n",
      " [ 0.07142857 -0.07142857  0.07142857]]\n"
     ]
    }
   ],
   "source": [
    "inversa = np.linalg.inv(m1)\n",
    "\n",
    "print(inversa)"
   ]
  },
  {
   "cell_type": "markdown",
   "metadata": {
    "id": "rAU3RwZ4TUTc"
   },
   "source": [
    "How to count the frequency of unique values in NumPy array?"
   ]
  },
  {
   "cell_type": "code",
   "execution_count": 42,
   "metadata": {
    "colab": {
     "base_uri": "https://localhost:8080/"
    },
    "id": "uVWEmiVmUj2d",
    "outputId": "22cc0fd1-7ed5-44e4-91d3-40d8b06b1899"
   },
   "outputs": [
    {
     "name": "stdout",
     "output_type": "stream",
     "text": [
      "[[-3  1]\n",
      " [ 1  1]\n",
      " [ 4  2]\n",
      " [ 5  2]\n",
      " [ 6  1]\n",
      " [ 7  1]\n",
      " [ 9  1]]\n"
     ]
    }
   ],
   "source": [
    "unique, counts = np.unique(np.array(m1), return_counts=True)\n",
    "frequency = np.asarray((unique, counts)).T\n",
    "\n",
    "print(frequency)"
   ]
  },
  {
   "cell_type": "markdown",
   "metadata": {
    "id": "9mvP0YanTUZw"
   },
   "source": [
    "Multiply matrices of complex numbers using NumPy in Python"
   ]
  },
  {
   "cell_type": "code",
   "execution_count": 43,
   "metadata": {
    "colab": {
     "base_uri": "https://localhost:8080/"
    },
    "id": "VqWteK7LUl7o",
    "outputId": "bda9b60e-a278-4509-b5b5-0b6804ef7531"
   },
   "outputs": [
    {
     "name": "stdout",
     "output_type": "stream",
     "text": [
      "M:\n",
      " [[0.70491101+0.j 0.41790133+0.j 0.35012446+0.j]\n",
      " [0.13164207+0.j 0.16128031+0.j 0.13496215+0.j]\n",
      " [0.38773086+0.j 0.62519831+0.j 0.71370027+0.j]]\n",
      "\n",
      "N:\n",
      " [[0.27512622+0.j 0.12079321+0.j 0.85808553+0.j]\n",
      " [0.80719126+0.j 0.43361443+0.j 0.75386995+0.j]\n",
      " [0.56810395+0.j 0.33867545+0.j 0.46665454+0.j]]\n",
      "\n",
      "M * N:\n",
      " [[0.73017289+0.j 0.38493508+0.j 1.08330436+0.j]\n",
      " [0.24307478+0.j 0.13154331+0.j 0.29752524+0.j]\n",
      " [1.01678548+0.j 0.55964303+0.j 1.13707593+0.j]]\n"
     ]
    }
   ],
   "source": [
    "m = np.random.random((3, 3)).astype('complex')\n",
    "n = np.random.random((3, 3)).astype('complex')\n",
    "mult = m @ n\n",
    "\n",
    "print('M:\\n', m)\n",
    "print('\\nN:\\n', n)\n",
    "print('\\nM * N:\\n', mult)"
   ]
  },
  {
   "cell_type": "markdown",
   "metadata": {
    "id": "TLLw-61rTUdy"
   },
   "source": [
    "Compute the outer product of two given vectors using NumPy in Python"
   ]
  },
  {
   "cell_type": "code",
   "execution_count": 44,
   "metadata": {
    "colab": {
     "base_uri": "https://localhost:8080/"
    },
    "id": "GgbaeT5tUn9S",
    "outputId": "218fec03-e43e-44d2-d41e-793d0252d40e"
   },
   "outputs": [
    {
     "name": "stdout",
     "output_type": "stream",
     "text": [
      "[[-2  4  6]\n",
      " [ 0  0  0]\n",
      " [-4  8 12]]\n"
     ]
    }
   ],
   "source": [
    "u = np.array([2, 0, 4])\n",
    "v = np.array([-1, 2, 3])\n",
    "outer_product = np.outer(u, v)\n",
    "\n",
    "print(outer_product)"
   ]
  },
  {
   "cell_type": "markdown",
   "metadata": {
    "id": "mRXYlb4DTUhN"
   },
   "source": [
    "Calculate inner, outer, and cross products of matrices and vectors using NumPy"
   ]
  },
  {
   "cell_type": "code",
   "execution_count": 45,
   "metadata": {
    "colab": {
     "base_uri": "https://localhost:8080/"
    },
    "id": "vR7nT7LsAah8",
    "outputId": "835cf570-428e-4b25-aca1-f7d4217b5588"
   },
   "outputs": [
    {
     "name": "stdout",
     "output_type": "stream",
     "text": [
      "Inner product:\n",
      "10\n",
      "\n",
      "Outer product:\n",
      "[[-2  4  6]\n",
      " [ 0  0  0]\n",
      " [-4  8 12]]\n",
      "\n",
      "Cross product:\n",
      "[ -8 -10   4]\n",
      "\n"
     ]
    }
   ],
   "source": [
    "inner_product = np.inner(u, v)\n",
    "outer_product = np.outer(u, v)\n",
    "cross_product = np.cross(u, v)\n",
    "\n",
    "print(f'Inner product:\\n{inner_product}\\n')\n",
    "print(f'Outer product:\\n{outer_product}\\n')\n",
    "print(f'Cross product:\\n{cross_product}\\n')"
   ]
  },
  {
   "cell_type": "code",
   "execution_count": 46,
   "metadata": {
    "colab": {
     "base_uri": "https://localhost:8080/"
    },
    "id": "-AR6ulnYUprT",
    "outputId": "e3baa277-853e-427b-ce4c-6a888a3e55e4"
   },
   "outputs": [
    {
     "name": "stdout",
     "output_type": "stream",
     "text": [
      "Inner product:\n",
      "[[  8  16  59]\n",
      " [ -6  -6 117]\n",
      " [ 14  20  72]]\n",
      "\n",
      "Outer product:\n",
      "[[  0   0   2  -1   1   3   5  10   1]\n",
      " [  0   0  10  -5   5  15  25  50   5]\n",
      " [  0   0   8  -4   4  12  20  40   4]\n",
      " [  0   0  12  -6   6  18  30  60   6]\n",
      " [  0   0  18  -9   9  27  45  90   9]\n",
      " [  0   0  -6   3  -3  -9 -15 -30  -3]\n",
      " [  0   0  10  -5   5  15  25  50   5]\n",
      " [  0   0   8  -4   4  12  20  40   4]\n",
      " [  0   0  14  -7   7  21  35  70   7]]\n",
      "\n",
      "Cross product:\n",
      "[[ 10  -2   0]\n",
      " [ 30 -15  15]\n",
      " [-66  30  30]]\n",
      "\n"
     ]
    }
   ],
   "source": [
    "inner_product = np.inner(m1, m2)\n",
    "outer_product = np.outer(m1, m2)\n",
    "cross_product = np.cross(m1, m2)\n",
    "\n",
    "print(f'Inner product:\\n{inner_product}\\n')\n",
    "print(f'Outer product:\\n{outer_product}\\n')\n",
    "print(f'Cross product:\\n{cross_product}\\n')"
   ]
  },
  {
   "cell_type": "markdown",
   "metadata": {
    "id": "5saqvqfkTUoM"
   },
   "source": [
    "Compute the covariance matrix of two given NumPy arrays"
   ]
  },
  {
   "cell_type": "code",
   "execution_count": 47,
   "metadata": {
    "colab": {
     "base_uri": "https://localhost:8080/"
    },
    "id": "upv4Yy9xUr_O",
    "outputId": "c78315cb-dc4a-405b-a9ec-b7e60f4cd40d"
   },
   "outputs": [
    {
     "name": "stdout",
     "output_type": "stream",
     "text": [
      "[[ 4.33333333 -0.5        -0.16666667  0.66666667  3.          2.83333333]\n",
      " [-0.5        39.         -9.5        -7.         -9.         26.5       ]\n",
      " [-0.16666667 -9.5         2.33333333  1.66666667  2.         -6.66666667]\n",
      " [ 0.66666667 -7.          1.66666667  1.33333333  2.         -4.33333333]\n",
      " [ 3.         -9.          2.          2.          4.         -4.        ]\n",
      " [ 2.83333333 26.5        -6.66666667 -4.33333333 -4.         20.33333333]]\n"
     ]
    }
   ],
   "source": [
    "covariance = np.cov(m1, m2)\n",
    "print(covariance)"
   ]
  },
  {
   "cell_type": "markdown",
   "metadata": {
    "id": "PyQVjmphTUr0"
   },
   "source": [
    "Convert covariance matrix to correlation matrix using Python"
   ]
  },
  {
   "cell_type": "code",
   "execution_count": 48,
   "metadata": {
    "colab": {
     "base_uri": "https://localhost:8080/"
    },
    "id": "1I6Z_d8RUukH",
    "outputId": "2f87d366-cda3-4f21-83d0-b65d19d13c19"
   },
   "outputs": [
    {
     "name": "stdout",
     "output_type": "stream",
     "text": [
      "[[ 1.         -0.21235986  0.18768242  0.27805717  0.45144955 -0.11415029]\n",
      " [-0.21235986  1.         -0.99968282 -0.9977037  -0.96781449  0.99504505]\n",
      " [ 0.18768242 -0.99968282  1.          0.99568151  0.96116947 -0.99723341]\n",
      " [ 0.27805717 -0.9977037   0.99568151  1.          0.98263729 -0.9860261 ]\n",
      " [ 0.45144955 -0.96781449  0.96116947  0.98263729  1.         -0.93799724]\n",
      " [-0.11415029  0.99504505 -0.99723341 -0.9860261  -0.93799724  1.        ]]\n"
     ]
    }
   ],
   "source": [
    "correlation = np.corrcoef(covariance)\n",
    "print(correlation)"
   ]
  },
  {
   "cell_type": "markdown",
   "metadata": {
    "id": "KE6nzCVCTUxt"
   },
   "source": [
    "Compute the Kronecker product of two mulitdimension NumPy arrays"
   ]
  },
  {
   "cell_type": "code",
   "execution_count": 49,
   "metadata": {
    "colab": {
     "base_uri": "https://localhost:8080/"
    },
    "id": "SO5WANUjUwZC",
    "outputId": "a1362955-95e5-42da-dcd7-451e44bd4dcd"
   },
   "outputs": [
    {
     "name": "stdout",
     "output_type": "stream",
     "text": [
      "[[  0   0   2   0   0  10   0   0   8]\n",
      " [ -1   1   3  -5   5  15  -4   4  12]\n",
      " [  5  10   1  25  50   5  20  40   4]\n",
      " [  0   0  12   0   0  18   0   0  -6]\n",
      " [ -6   6  18  -9   9  27   3  -3  -9]\n",
      " [ 30  60   6  45  90   9 -15 -30  -3]\n",
      " [  0   0  10   0   0   8   0   0  14]\n",
      " [ -5   5  15  -4   4  12  -7   7  21]\n",
      " [ 25  50   5  20  40   4  35  70   7]]\n"
     ]
    }
   ],
   "source": [
    "kronecker_product = np.kron(m1, m2)\n",
    "print(kronecker_product)"
   ]
  },
  {
   "cell_type": "markdown",
   "metadata": {
    "id": "PZcC4LupTU07"
   },
   "source": [
    "Convert the matrix into a list"
   ]
  },
  {
   "cell_type": "code",
   "execution_count": 50,
   "metadata": {
    "colab": {
     "base_uri": "https://localhost:8080/"
    },
    "id": "RcITeZpsUygJ",
    "outputId": "62b88c21-ec83-459a-8311-903142c0f609"
   },
   "outputs": [
    {
     "name": "stdout",
     "output_type": "stream",
     "text": [
      "[ 1  5  4  6  9 -3  5  4  7]\n"
     ]
    }
   ],
   "source": [
    "m1_list = np.ravel(m1)\n",
    "print(m1_list)"
   ]
  },
  {
   "cell_type": "markdown",
   "metadata": {
    "id": "UtH3RFf6zqdH"
   },
   "source": [
    "## Questions on NumPy Indexing"
   ]
  },
  {
   "cell_type": "code",
   "execution_count": 51,
   "metadata": {
    "colab": {
     "base_uri": "https://localhost:8080/"
    },
    "id": "R5aJw7BZPUyR",
    "outputId": "7e0bd528-7647-4c9c-b94c-8db98281795f"
   },
   "outputs": [
    {
     "name": "stdout",
     "output_type": "stream",
     "text": [
      "[[ 5  0  4]\n",
      " [ 6  9 -3]\n",
      " [ 5 -4  7]]\n"
     ]
    }
   ],
   "source": [
    "m1 = np.matrix('[5, 0, 4; 6, 9, -3; 5, -4, 7]')\n",
    "print(m1)"
   ]
  },
  {
   "cell_type": "markdown",
   "metadata": {
    "id": "_mvcZZJ2LR1E"
   },
   "source": [
    "Replace NumPy array elements that doesn’t satisfy the given condition"
   ]
  },
  {
   "cell_type": "code",
   "execution_count": 52,
   "metadata": {
    "colab": {
     "base_uri": "https://localhost:8080/"
    },
    "id": "tJPF9OK2LXCg",
    "outputId": "2edb7428-4aa3-4c26-c09a-260e948d6545"
   },
   "outputs": [
    {
     "name": "stdout",
     "output_type": "stream",
     "text": [
      "[[ 5 -1 -1]\n",
      " [ 6  9 -1]\n",
      " [ 5 -1  7]]\n"
     ]
    }
   ],
   "source": [
    "# Substituindo valores que não são maiores que 4 por -1\n",
    "m = np.select([m1>4], [m1], -1)\n",
    "print(m)"
   ]
  },
  {
   "cell_type": "markdown",
   "metadata": {
    "id": "dVQc3DDQLR50"
   },
   "source": [
    "Return the indices of elements where the given condition is satisfied"
   ]
  },
  {
   "cell_type": "code",
   "execution_count": 53,
   "metadata": {
    "colab": {
     "base_uri": "https://localhost:8080/"
    },
    "id": "Y3VBbLoMLZrH",
    "outputId": "ad0545d9-c224-4497-81d1-1f3577ad5398"
   },
   "outputs": [
    {
     "name": "stdout",
     "output_type": "stream",
     "text": [
      "[[0 0]\n",
      " [1 0]\n",
      " [1 1]\n",
      " [2 0]\n",
      " [2 2]]\n"
     ]
    }
   ],
   "source": [
    "row, col = np.where(m1>4)  # Índices de valores > 4\n",
    "m = np.asarray((row, col)).T\n",
    "print(m)"
   ]
  },
  {
   "cell_type": "markdown",
   "metadata": {
    "id": "uCV2Uf-hLR-8"
   },
   "source": [
    "Replace NaN values with average of columns"
   ]
  },
  {
   "cell_type": "code",
   "execution_count": 54,
   "metadata": {
    "colab": {
     "base_uri": "https://localhost:8080/"
    },
    "id": "zKy48DFUZSVV",
    "outputId": "27045adb-2123-4ec6-d101-12772af26b20"
   },
   "outputs": [
    {
     "name": "stdout",
     "output_type": "stream",
     "text": [
      "[[nan  1.  2.]\n",
      " [ 0. -2.  3.]\n",
      " [-3. nan  4.]]\n"
     ]
    }
   ],
   "source": [
    "m2 = np.matrix([[np.nan, 1, 2], [0, -2, 3], [-3, np.nan, 4]])\n",
    "print(m2)"
   ]
  },
  {
   "cell_type": "code",
   "execution_count": 55,
   "metadata": {
    "colab": {
     "base_uri": "https://localhost:8080/"
    },
    "id": "jLNgHW1qLbtd",
    "outputId": "a4686e60-69ce-4ab6-a2d9-19a32cc430e4"
   },
   "outputs": [
    {
     "name": "stdout",
     "output_type": "stream",
     "text": [
      "[[-1.5  1.   2. ]\n",
      " [ 0.  -2.   3. ]\n",
      " [-3.  -0.5  4. ]]\n"
     ]
    }
   ],
   "source": [
    "row, col = np.where(np.isnan(m2))  # Índices de valores NaN\n",
    "col_mean = np.nanmean(m2, axis=0)  # Média de colunas de valores NaN\n",
    "m2[row, col] = np.take(col_mean, col)\n",
    "print(m2)"
   ]
  },
  {
   "cell_type": "markdown",
   "metadata": {
    "id": "A0_ARC5DLSIg"
   },
   "source": [
    "Replace negative value with zero in numpy array"
   ]
  },
  {
   "cell_type": "code",
   "execution_count": 56,
   "metadata": {
    "colab": {
     "base_uri": "https://localhost:8080/"
    },
    "id": "Dh-ixj73d8I7",
    "outputId": "0a76e484-2ebb-493c-b622-a201d8256179"
   },
   "outputs": [
    {
     "name": "stdout",
     "output_type": "stream",
     "text": [
      "[[5 0 4]\n",
      " [6 9 0]\n",
      " [5 0 7]]\n"
     ]
    }
   ],
   "source": [
    "m = m1.copy()\n",
    "row, col = np.where(m<0)\n",
    "m[row, col] = 0\n",
    "print(m)"
   ]
  },
  {
   "cell_type": "markdown",
   "metadata": {
    "id": "JB3I8F1YLSNQ"
   },
   "source": [
    "How to get values of an NumPy array at certain index positions?"
   ]
  },
  {
   "cell_type": "code",
   "execution_count": 57,
   "metadata": {
    "colab": {
     "base_uri": "https://localhost:8080/"
    },
    "id": "0TKjDHqRLfnO",
    "outputId": "29aeea3a-bfaa-4a04-d931-1144dceeff2f"
   },
   "outputs": [
    {
     "name": "stdout",
     "output_type": "stream",
     "text": [
      "5\n",
      "-3\n",
      "5\n",
      "7\n"
     ]
    }
   ],
   "source": [
    "print(m1[0,0])  # valor na posição: linha 0 coluna 0 de m1\n",
    "print(m1[1,2])  # valor na posição: linha 1 coluna 2 de m1\n",
    "print(m1[-1,0])  # valor na posição: linha 2 coluna 0 de m1\n",
    "print(m1[-1,-1])  # valor na posição: linha 2 coluna 2 de m1"
   ]
  },
  {
   "cell_type": "markdown",
   "metadata": {
    "id": "iH6nyI1hLSR7"
   },
   "source": [
    "Find indices of elements equal to zero in a NumPy array"
   ]
  },
  {
   "cell_type": "code",
   "execution_count": 58,
   "metadata": {
    "colab": {
     "base_uri": "https://localhost:8080/"
    },
    "id": "RGe4y3jvLh02",
    "outputId": "0ae63f33-4790-45be-c1db-25c8f1cbfad2"
   },
   "outputs": [
    {
     "name": "stdout",
     "output_type": "stream",
     "text": [
      "[[0 1]]\n"
     ]
    }
   ],
   "source": [
    "row, col = np.where(m1==0)\n",
    "m = np.asarray((row, col)).T\n",
    "print(m)"
   ]
  },
  {
   "cell_type": "markdown",
   "metadata": {
    "id": "DKgEnYjwLSbj"
   },
   "source": [
    "How to Remove columns in Numpy array that contains non-numeric values?"
   ]
  },
  {
   "cell_type": "code",
   "execution_count": 59,
   "metadata": {
    "colab": {
     "base_uri": "https://localhost:8080/"
    },
    "id": "D0nVdvMxLkUF",
    "outputId": "2dede420-9fb8-471b-d3ef-f0b6a615e49c"
   },
   "outputs": [
    {
     "name": "stdout",
     "output_type": "stream",
     "text": [
      "[[2.]\n",
      " [3.]\n",
      " [4.]]\n"
     ]
    }
   ],
   "source": [
    "m = np.array([[np.nan, 1, 2], [0, -2, 3], [-3, np.nan, 4]])\n",
    "\n",
    "m = m[:, ~np.isnan(m).any(axis=0)]\n",
    "print(m)"
   ]
  },
  {
   "cell_type": "markdown",
   "metadata": {
    "id": "kZBiJif_LSgT"
   },
   "source": [
    "How to access different rows of a multidimensional NumPy array?"
   ]
  },
  {
   "cell_type": "code",
   "execution_count": 60,
   "metadata": {
    "colab": {
     "base_uri": "https://localhost:8080/"
    },
    "id": "C6P1gSLyLmxQ",
    "outputId": "be71f464-34e6-4a7b-889d-9981c80a5e0c"
   },
   "outputs": [
    {
     "name": "stdout",
     "output_type": "stream",
     "text": [
      "[[ 6  9 -3]]\n",
      "\n",
      "[[ 5  0  4]\n",
      " [ 5 -4  7]]\n"
     ]
    }
   ],
   "source": [
    "print(m1[1])  # linha 1 de m1\n",
    "print()\n",
    "print(m1[[0,2]])  # linhas 0 e 2 de m1"
   ]
  },
  {
   "cell_type": "markdown",
   "metadata": {
    "id": "eD0FsTqbLSlL"
   },
   "source": [
    "Get row numbers of NumPy array having element larger than X"
   ]
  },
  {
   "cell_type": "code",
   "execution_count": 61,
   "metadata": {
    "colab": {
     "base_uri": "https://localhost:8080/"
    },
    "id": "MuYO4I2iLp7h",
    "outputId": "88c6fc3e-9495-4495-e042-88d2a3b8ba10"
   },
   "outputs": [
    {
     "name": "stdout",
     "output_type": "stream",
     "text": [
      "[1 2]\n"
     ]
    }
   ],
   "source": [
    "x = 5\n",
    "row, col = np.where(m1>x)\n",
    "print(np.unique(row))"
   ]
  },
  {
   "cell_type": "markdown",
   "metadata": {
    "id": "OGourcPMLSts"
   },
   "source": [
    "Get filled the diagonals of NumPy array"
   ]
  },
  {
   "cell_type": "code",
   "execution_count": 62,
   "metadata": {
    "id": "SVzBxRDVLr8e"
   },
   "outputs": [],
   "source": [
    "m = m1.copy()"
   ]
  },
  {
   "cell_type": "code",
   "execution_count": 63,
   "metadata": {
    "colab": {
     "base_uri": "https://localhost:8080/"
    },
    "id": "ott2h6Zfjcuo",
    "outputId": "60310b29-0fbb-4e17-a239-21a0a9a9553f"
   },
   "outputs": [
    {
     "name": "stdout",
     "output_type": "stream",
     "text": [
      "[[10  0  4]\n",
      " [ 6 10 -3]\n",
      " [ 5 -4 10]]\n"
     ]
    }
   ],
   "source": [
    "np.fill_diagonal(m, 10)\n",
    "print(m)"
   ]
  },
  {
   "cell_type": "markdown",
   "metadata": {
    "id": "HQ_gf16HLSyE"
   },
   "source": [
    "Check elements present in the NumPy array"
   ]
  },
  {
   "cell_type": "code",
   "execution_count": 64,
   "metadata": {
    "colab": {
     "base_uri": "https://localhost:8080/"
    },
    "id": "LLydf4tELwWd",
    "outputId": "bdb72c94-a8be-4250-c834-3d9a493a1621"
   },
   "outputs": [
    {
     "name": "stdout",
     "output_type": "stream",
     "text": [
      "True\n",
      "False\n",
      "True\n",
      "True\n"
     ]
    }
   ],
   "source": [
    "print(-3 in m1)\n",
    "print(3 in m1)\n",
    "print(9 in m1)\n",
    "print(0 in m1)"
   ]
  },
  {
   "cell_type": "markdown",
   "metadata": {
    "id": "8heM3vtWLS28"
   },
   "source": [
    "Combined array index by index"
   ]
  },
  {
   "cell_type": "code",
   "execution_count": 65,
   "metadata": {
    "colab": {
     "base_uri": "https://localhost:8080/"
    },
    "id": "Cx_dgaw0LyKU",
    "outputId": "16c81049-9127-4397-ab36-3a3b0fc84f69"
   },
   "outputs": [
    {
     "name": "stdout",
     "output_type": "stream",
     "text": [
      "[[ 9 -3]\n",
      " [-4  7]]\n",
      "\n",
      "[[ 5  0  4]\n",
      " [ 6  9 -3]]\n"
     ]
    }
   ],
   "source": [
    "print(m1[1:,1:])  # A partir da linha 1 e coluna 1\n",
    "print()\n",
    "print(m1[:2, :])  # Até linha 2 e todas colunas"
   ]
  },
  {
   "cell_type": "markdown",
   "metadata": {
    "id": "ifE-DdVQLb9X"
   },
   "source": [
    "## Questions on NumPy Linear Algebra"
   ]
  },
  {
   "cell_type": "code",
   "execution_count": 66,
   "metadata": {
    "colab": {
     "base_uri": "https://localhost:8080/"
    },
    "id": "T0cxJA0BMBTh",
    "outputId": "e455f757-bd55-435f-9582-62d8c851f26c"
   },
   "outputs": [
    {
     "name": "stdout",
     "output_type": "stream",
     "text": [
      "[[ 5  0  4]\n",
      " [ 6  9 -3]\n",
      " [ 5 -4  7]]\n"
     ]
    }
   ],
   "source": [
    "m = np.matrix('[5, 0, 4; 6, 9, -3; 5, -4, 7]')\n",
    "print(m)"
   ]
  },
  {
   "cell_type": "markdown",
   "metadata": {
    "id": "oZuTNmH-LgbG"
   },
   "source": [
    "Find a matrix or vector norm using NumPy"
   ]
  },
  {
   "cell_type": "code",
   "execution_count": 67,
   "metadata": {
    "colab": {
     "base_uri": "https://localhost:8080/"
    },
    "id": "ULHC897BMGKF",
    "outputId": "81a4b202-8c15-48ed-a80f-750992b8fca8"
   },
   "outputs": [
    {
     "data": {
      "text/plain": [
       "16.0312195418814"
      ]
     },
     "execution_count": 67,
     "metadata": {},
     "output_type": "execute_result"
    }
   ],
   "source": [
    "np.linalg.norm(m)"
   ]
  },
  {
   "cell_type": "markdown",
   "metadata": {
    "id": "pghf3xs4LkhW"
   },
   "source": [
    "Calculate the QR decomposition of a given matrix using NumPy"
   ]
  },
  {
   "cell_type": "code",
   "execution_count": 68,
   "metadata": {
    "colab": {
     "base_uri": "https://localhost:8080/"
    },
    "id": "ybn87wW8MSXf",
    "outputId": "325b505f-5ff5-4807-baf3-5848265f48d9"
   },
   "outputs": [
    {
     "name": "stdout",
     "output_type": "stream",
     "text": [
      "[[-0.53916387  0.21624999 -0.81396454]\n",
      " [-0.64699664 -0.72507348  0.23593175]\n",
      " [-0.53916387  0.65383819  0.53084644]] \n",
      "\n",
      " [[-9.2736185  -3.66631429 -3.98981261]\n",
      " [ 0.         -9.14101414  7.61708776]\n",
      " [ 0.          0.         -0.24772834]]\n"
     ]
    }
   ],
   "source": [
    "q, r = np.linalg.qr(m)\n",
    "print(q, '\\n\\n', r)"
   ]
  },
  {
   "cell_type": "markdown",
   "metadata": {
    "id": "FqR-Fro-LkrF"
   },
   "source": [
    "Compute the condition number of a given matrix using NumPy"
   ]
  },
  {
   "cell_type": "code",
   "execution_count": 69,
   "metadata": {
    "colab": {
     "base_uri": "https://localhost:8080/"
    },
    "id": "gU67aXYyMvl-",
    "outputId": "c1828012-4ec9-4369-f12c-dc641593786f"
   },
   "outputs": [
    {
     "data": {
      "text/plain": [
       "72.49835923927512"
      ]
     },
     "execution_count": 69,
     "metadata": {},
     "output_type": "execute_result"
    }
   ],
   "source": [
    "np.linalg.cond(m)"
   ]
  },
  {
   "cell_type": "markdown",
   "metadata": {
    "id": "-iQh5WPJLk3F"
   },
   "source": [
    "Compute the eigenvalues and right eigenvectors of a given square array using NumPy?"
   ]
  },
  {
   "cell_type": "code",
   "execution_count": 70,
   "metadata": {
    "colab": {
     "base_uri": "https://localhost:8080/"
    },
    "id": "jhFJanO4M99J",
    "outputId": "1dab997a-7adb-4664-a33a-df4c166705bf"
   },
   "outputs": [
    {
     "name": "stdout",
     "output_type": "stream",
     "text": [
      "[-0.18281144+0.j         10.59140572+1.64151916j 10.59140572-1.64151916j] \n",
      "\n",
      " [[ 0.51043513+0.j          0.47756951-0.14020437j  0.47756951+0.14020437j]\n",
      " [-0.54958414+0.j         -0.0540776 -0.47282524j -0.0540776 +0.47282524j]\n",
      " [-0.66137225+0.j          0.72510827+0.j          0.72510827-0.j        ]]\n"
     ]
    }
   ],
   "source": [
    "eigen_values, eigen_vectors = np.linalg.eig(m)\n",
    "\n",
    "print(eigen_values, '\\n\\n', eigen_vectors)"
   ]
  },
  {
   "cell_type": "markdown",
   "metadata": {
    "id": "O0UyKxArLk_g"
   },
   "source": [
    "Calculate the Euclidean distance using NumPy"
   ]
  },
  {
   "cell_type": "code",
   "execution_count": 71,
   "metadata": {
    "colab": {
     "base_uri": "https://localhost:8080/"
    },
    "id": "Ed3WoX3uODgM",
    "outputId": "14b3d82d-0e0a-4f0f-fa77-266d5da4067d"
   },
   "outputs": [
    {
     "name": "stdout",
     "output_type": "stream",
     "text": [
      "12.569805089976535\n"
     ]
    }
   ],
   "source": [
    "p1 = np.array((4, 5, 10))\n",
    "p2 = np.array((1, -2, 0))\n",
    "\n",
    "print(np.linalg.norm(p1-p2))"
   ]
  },
  {
   "cell_type": "markdown",
   "metadata": {
    "id": "boi0srS3PPYD"
   },
   "source": [
    "## Questions on NumPy Random"
   ]
  },
  {
   "cell_type": "markdown",
   "metadata": {
    "id": "Ut9lVornPYOB"
   },
   "source": [
    "Create a Numpy array with random values"
   ]
  },
  {
   "cell_type": "code",
   "execution_count": 72,
   "metadata": {
    "colab": {
     "base_uri": "https://localhost:8080/"
    },
    "id": "WeWD1AK1Qng3",
    "outputId": "5ad6e61a-5a99-4e18-8530-c13c96bbb0c0"
   },
   "outputs": [
    {
     "name": "stdout",
     "output_type": "stream",
     "text": [
      "[0.65847046 0.87873384 0.37333862 0.44937633 0.90086273]\n"
     ]
    }
   ],
   "source": [
    "v = np.random.default_rng().random(5)\n",
    "print(v)"
   ]
  },
  {
   "cell_type": "markdown",
   "metadata": {
    "id": "LU82VH8uQZal"
   },
   "source": [
    "How to choose elements from the list with different probability using NumPy?"
   ]
  },
  {
   "cell_type": "code",
   "execution_count": 73,
   "metadata": {
    "colab": {
     "base_uri": "https://localhost:8080/"
    },
    "id": "4wZ8EbPrQpg2",
    "outputId": "de96f691-f76b-4ce3-efb6-6652d183796e"
   },
   "outputs": [
    {
     "name": "stdout",
     "output_type": "stream",
     "text": [
      "[0.90086273 0.87873384 0.87873384 0.37333862 0.90086273]\n"
     ]
    }
   ],
   "source": [
    "numbers = np.random.choice(v, size=5, p=[0.05, 0.35, 0.2, 0.15, 0.25])\n",
    "print(numbers)"
   ]
  },
  {
   "cell_type": "markdown",
   "metadata": {
    "id": "jUIaVh2eQZf5"
   },
   "source": [
    "How to get weighted random choice in Python?"
   ]
  },
  {
   "cell_type": "code",
   "execution_count": 74,
   "metadata": {
    "colab": {
     "base_uri": "https://localhost:8080/"
    },
    "id": "n0CfFCPFQrK2",
    "outputId": "9cc4ebdd-11be-4869-eb1c-a8c561809049"
   },
   "outputs": [
    {
     "name": "stdout",
     "output_type": "stream",
     "text": [
      "0.9008627327095239\n"
     ]
    }
   ],
   "source": [
    "number = np.random.choice(v, p=[0.05, 0.35, 0.2, 0.15, 0.25])\n",
    "print(number)"
   ]
  },
  {
   "cell_type": "markdown",
   "metadata": {
    "id": "KeOiuqFsQZlh"
   },
   "source": [
    "Generate Random Numbers From The Uniform Distribution using NumPy"
   ]
  },
  {
   "cell_type": "code",
   "execution_count": 75,
   "metadata": {
    "colab": {
     "base_uri": "https://localhost:8080/"
    },
    "id": "tepkG9feQu5A",
    "outputId": "c12bc313-3893-44f5-e0ff-7eae6d9b49fa"
   },
   "outputs": [
    {
     "name": "stdout",
     "output_type": "stream",
     "text": [
      "[0.86112914 0.06689185 0.90514024 0.9817716  0.48081452]\n"
     ]
    }
   ],
   "source": [
    "numbers = np.random.uniform(low=0, high=1, size=5)\n",
    "print(numbers)"
   ]
  },
  {
   "cell_type": "markdown",
   "metadata": {
    "id": "PskNVoGVQZqm"
   },
   "source": [
    "Get Random Elements form geometric distribution"
   ]
  },
  {
   "cell_type": "code",
   "execution_count": 76,
   "metadata": {
    "colab": {
     "base_uri": "https://localhost:8080/"
    },
    "id": "-uz7iLpGQw6h",
    "outputId": "c3b77566-21fb-4c11-cc57-5755744c4ddc"
   },
   "outputs": [
    {
     "name": "stdout",
     "output_type": "stream",
     "text": [
      "[ 1  3  2 16  5  6  3  2  1  1]\n"
     ]
    }
   ],
   "source": [
    "numbers = np.random.geometric(p=0.3, size=10)\n",
    "print(numbers)"
   ]
  },
  {
   "cell_type": "markdown",
   "metadata": {
    "id": "l5KmgUn4QZvs"
   },
   "source": [
    "Get Random elements from Laplace distribution"
   ]
  },
  {
   "cell_type": "code",
   "execution_count": 77,
   "metadata": {
    "colab": {
     "base_uri": "https://localhost:8080/"
    },
    "id": "iDUcpvnTQylr",
    "outputId": "4228e1ae-fdd6-47df-9c81-f86673dfe1da"
   },
   "outputs": [
    {
     "name": "stdout",
     "output_type": "stream",
     "text": [
      "[-0.31960286 -1.72606117  3.90379103  0.19279842  3.378621   -3.00811559\n",
      " -0.35998333  0.47378293 -0.20598647  0.42683663]\n"
     ]
    }
   ],
   "source": [
    "numbers = np.random.laplace(loc=0, scale=1, size=10)\n",
    "print(numbers)"
   ]
  },
  {
   "cell_type": "markdown",
   "metadata": {
    "id": "AYEvrRbFQZ1P"
   },
   "source": [
    "Return a Matrix of random values from a uniform distribution"
   ]
  },
  {
   "cell_type": "code",
   "execution_count": 78,
   "metadata": {
    "colab": {
     "base_uri": "https://localhost:8080/"
    },
    "id": "DP46krr0Q0at",
    "outputId": "007c216f-08e8-4394-aa90-d4562d0b0770"
   },
   "outputs": [
    {
     "name": "stdout",
     "output_type": "stream",
     "text": [
      "[[0.52180335 0.96268637 0.72680415]\n",
      " [0.00274023 0.07985706 0.82612817]\n",
      " [0.63113794 0.02590907 0.50771018]]\n"
     ]
    }
   ],
   "source": [
    "m = np.random.uniform(low=0, high=1, size=(3,3))\n",
    "print(m)"
   ]
  },
  {
   "cell_type": "markdown",
   "metadata": {
    "id": "CMA6n6u4QZ5y"
   },
   "source": [
    "Return a Matrix of random values from a Gaussian distribution"
   ]
  },
  {
   "cell_type": "code",
   "execution_count": 79,
   "metadata": {
    "colab": {
     "base_uri": "https://localhost:8080/"
    },
    "id": "N5_MvRqsQ2RQ",
    "outputId": "f2f6a5d5-663c-4f05-8df0-44eaa67af642"
   },
   "outputs": [
    {
     "name": "stdout",
     "output_type": "stream",
     "text": [
      "[[-1.14251705  0.55754295  0.88533027]\n",
      " [ 0.80844576 -1.19065238 -1.0575395 ]\n",
      " [-0.02926527  0.18516272 -0.2626703 ]]\n"
     ]
    }
   ],
   "source": [
    "m = np.random.normal(loc=0, scale=1, size=(3,3))\n",
    "print(m)"
   ]
  },
  {
   "cell_type": "markdown",
   "metadata": {
    "id": "AFGqyzwnZt0s"
   },
   "source": [
    "## Questions on NumPy Sorting and Searching"
   ]
  },
  {
   "cell_type": "code",
   "execution_count": 80,
   "metadata": {
    "id": "FgKZGsI3dUjW"
   },
   "outputs": [],
   "source": [
    "v = np.array([3, -2, 0, 1, 5, -7, 9])"
   ]
  },
  {
   "cell_type": "markdown",
   "metadata": {
    "id": "mNMxtqn-Z848"
   },
   "source": [
    "How to get the indices of the sorted array using NumPy in Python?"
   ]
  },
  {
   "cell_type": "code",
   "execution_count": 81,
   "metadata": {
    "colab": {
     "base_uri": "https://localhost:8080/"
    },
    "id": "6McOhZx_Z_Ma",
    "outputId": "cae9a020-c277-497a-85b6-6e0cd82da0ae"
   },
   "outputs": [
    {
     "name": "stdout",
     "output_type": "stream",
     "text": [
      "[5 1 2 3 0 4 6]\n"
     ]
    }
   ],
   "source": [
    "indices = np.argsort(v)\n",
    "print(indices)"
   ]
  },
  {
   "cell_type": "markdown",
   "metadata": {
    "id": "TQ0mEbZsZ88w"
   },
   "source": [
    "Finding the k smallest values of a NumPy array"
   ]
  },
  {
   "cell_type": "code",
   "execution_count": 82,
   "metadata": {
    "colab": {
     "base_uri": "https://localhost:8080/"
    },
    "id": "yCw9pHIraBQ2",
    "outputId": "6f106709-1ce8-48af-e54b-e8df786e4c01"
   },
   "outputs": [
    {
     "name": "stdout",
     "output_type": "stream",
     "text": [
      "[-7 -2  0]\n"
     ]
    }
   ],
   "source": [
    "k = 3\n",
    "k_smallest = np.sort(v)[:k]\n",
    "print(k_smallest)"
   ]
  },
  {
   "cell_type": "markdown",
   "metadata": {
    "id": "7ngKvs_ZZ9Cz"
   },
   "source": [
    "How to get the n-largest values of an array using NumPy?"
   ]
  },
  {
   "cell_type": "code",
   "execution_count": 83,
   "metadata": {
    "colab": {
     "base_uri": "https://localhost:8080/"
    },
    "id": "dolmjVS_aDX5",
    "outputId": "f056e04c-e2b6-44b8-c8ca-46291be8a5ee"
   },
   "outputs": [
    {
     "name": "stdout",
     "output_type": "stream",
     "text": [
      "[9 5 3]\n"
     ]
    }
   ],
   "source": [
    "n = 3\n",
    "n_largest = np.sort(v)[::-1][:n]\n",
    "print(n_largest)"
   ]
  },
  {
   "cell_type": "markdown",
   "metadata": {
    "id": "5byKCv4NZ9GO"
   },
   "source": [
    "Sort the values in a matrix"
   ]
  },
  {
   "cell_type": "code",
   "execution_count": 84,
   "metadata": {
    "colab": {
     "base_uri": "https://localhost:8080/"
    },
    "id": "9JDbOxI6b5ef",
    "outputId": "4bda44ca-789e-4fdb-f9c0-52b3114244b3"
   },
   "outputs": [
    {
     "name": "stdout",
     "output_type": "stream",
     "text": [
      "[[ 5.   0.2  4. ]\n",
      " [ 6.5  9.  -3.1]\n",
      " [ 5.  -4.   7.9]]\n"
     ]
    }
   ],
   "source": [
    "m = np.matrix('[5, 0.2, 4; 6.5, 9, -3.1; 5, -4, 7.9]')\n",
    "print(m)"
   ]
  },
  {
   "cell_type": "code",
   "execution_count": 85,
   "metadata": {
    "colab": {
     "base_uri": "https://localhost:8080/"
    },
    "id": "F1He71awaGN4",
    "outputId": "b3f3dd09-6b23-45ea-db1f-d57000e250c5"
   },
   "outputs": [
    {
     "name": "stdout",
     "output_type": "stream",
     "text": [
      "[[ 0.2  4.   5. ]\n",
      " [-3.1  6.5  9. ]\n",
      " [-4.   5.   7.9]]\n"
     ]
    }
   ],
   "source": [
    "sorted_m = np.sort(m, axis=1)  # Sorted in row\n",
    "print(sorted_m)"
   ]
  },
  {
   "cell_type": "markdown",
   "metadata": {
    "id": "x9364E2xZ9LA"
   },
   "source": [
    "Filter out integers from float numpy array"
   ]
  },
  {
   "cell_type": "code",
   "execution_count": 86,
   "metadata": {
    "colab": {
     "base_uri": "https://localhost:8080/"
    },
    "id": "BNxEsfeIaJL3",
    "outputId": "aaf5b987-0d77-4e7c-8af6-49fe6ebaf0c3"
   },
   "outputs": [
    {
     "name": "stdout",
     "output_type": "stream",
     "text": [
      "[[ 0.2  6.5 -3.1  7.9]]\n"
     ]
    }
   ],
   "source": [
    "integers_indices = np.isclose(m, m.astype(int))\n",
    "print(m[~integers_indices])"
   ]
  },
  {
   "cell_type": "markdown",
   "metadata": {
    "id": "BAndQBtXZ9N3"
   },
   "source": [
    "Find the indices into a sorted array"
   ]
  },
  {
   "cell_type": "code",
   "execution_count": 87,
   "metadata": {
    "colab": {
     "base_uri": "https://localhost:8080/"
    },
    "id": "_YYB3wIIaLf7",
    "outputId": "fdadb7ed-ce38-4fc2-8b8e-00a57cb1944d"
   },
   "outputs": [
    {
     "name": "stdout",
     "output_type": "stream",
     "text": [
      "[[1 2 0]\n",
      " [2 0 1]\n",
      " [1 0 2]]\n"
     ]
    }
   ],
   "source": [
    "indices = np.argsort(m, axis=1)\n",
    "print(indices)"
   ]
  },
  {
   "cell_type": "markdown",
   "metadata": {
    "id": "9Fxn0SmAkT8G"
   },
   "source": [
    "## Questions on NumPy Mathematics"
   ]
  },
  {
   "cell_type": "markdown",
   "metadata": {
    "id": "-ABFPD2fkYn1"
   },
   "source": [
    "How to get element-wise true division of an array using Numpy?"
   ]
  },
  {
   "cell_type": "code",
   "execution_count": 88,
   "metadata": {
    "id": "vq-Uj8G98Hm4"
   },
   "outputs": [],
   "source": [
    "v1 = np.array([4, -2, 0])\n",
    "v2 = np.array([1, 5, -3])\n",
    "\n",
    "m1 = np.array([[1, 2, 3], [0, -1, 5], [-2, 2, 7]])\n",
    "m2 = np.array([[8, 2, 6], [1, 0, 3], [2, -1, 0]])"
   ]
  },
  {
   "cell_type": "code",
   "execution_count": 89,
   "metadata": {
    "colab": {
     "base_uri": "https://localhost:8080/"
    },
    "id": "cPUlxjAd7AsR",
    "outputId": "b2af5f68-e27c-4038-efba-36a21f7eb8f6"
   },
   "outputs": [
    {
     "name": "stdout",
     "output_type": "stream",
     "text": [
      "[ 4.  -0.4 -0. ]\n"
     ]
    }
   ],
   "source": [
    "v = np.true_divide(v1, v2)\n",
    "print(v)"
   ]
  },
  {
   "cell_type": "markdown",
   "metadata": {
    "id": "OAEGWtkM65Y-"
   },
   "source": [
    "How to calculate the element-wise absolute value of NumPy array?"
   ]
  },
  {
   "cell_type": "code",
   "execution_count": 90,
   "metadata": {
    "colab": {
     "base_uri": "https://localhost:8080/"
    },
    "id": "3pq_Qpws7Eh9",
    "outputId": "aecd40fc-1459-4efc-8a6e-2a28c909fdef"
   },
   "outputs": [
    {
     "name": "stdout",
     "output_type": "stream",
     "text": [
      "[4 2 0]\n"
     ]
    }
   ],
   "source": [
    "v = np.abs(v1)\n",
    "print(v)"
   ]
  },
  {
   "cell_type": "markdown",
   "metadata": {
    "id": "veZ4ZOOF65do"
   },
   "source": [
    "Compute the negative of the NumPy array"
   ]
  },
  {
   "cell_type": "code",
   "execution_count": 91,
   "metadata": {
    "colab": {
     "base_uri": "https://localhost:8080/"
    },
    "id": "hq1ByYxI7HVz",
    "outputId": "15b93718-61cc-4dda-a594-49fa68f19b80"
   },
   "outputs": [
    {
     "name": "stdout",
     "output_type": "stream",
     "text": [
      "[-4  2  0]\n"
     ]
    }
   ],
   "source": [
    "v = np.negative(v1)\n",
    "print(v)"
   ]
  },
  {
   "cell_type": "markdown",
   "metadata": {
    "id": "YB59pWxO65iN"
   },
   "source": [
    "Multiply 2d numpy array corresponding to 1d array"
   ]
  },
  {
   "cell_type": "code",
   "execution_count": 92,
   "metadata": {
    "colab": {
     "base_uri": "https://localhost:8080/"
    },
    "id": "we3GsME27KUv",
    "outputId": "ecd99ef1-d1fe-448f-884d-bcb94feac030"
   },
   "outputs": [
    {
     "name": "stdout",
     "output_type": "stream",
     "text": [
      "[[  4   8  12]\n",
      " [  0   2 -10]\n",
      " [  0   0   0]]\n"
     ]
    }
   ],
   "source": [
    "m = m1 * v1[:, np.newaxis]\n",
    "print(m)"
   ]
  },
  {
   "cell_type": "markdown",
   "metadata": {
    "id": "6EU9b2OX65nI"
   },
   "source": [
    "Computes the inner product of two arrays"
   ]
  },
  {
   "cell_type": "code",
   "execution_count": 93,
   "metadata": {
    "colab": {
     "base_uri": "https://localhost:8080/"
    },
    "id": "QMKuOxNr7NVt",
    "outputId": "d152a15d-ff40-40a1-e6ec-204ee0b961c0"
   },
   "outputs": [
    {
     "name": "stdout",
     "output_type": "stream",
     "text": [
      "[[  8  16  59]\n",
      " [ -6  -6 117]\n",
      " [ 14  20  72]]\n"
     ]
    }
   ],
   "source": [
    "u = np.array([2, 0, 4])\n",
    "v = np.array([-1, 2, 3])\n",
    "innerr_product = np.inner(u, v)\n",
    "\n",
    "print(inner_product)"
   ]
  },
  {
   "cell_type": "markdown",
   "metadata": {
    "id": "Y5L1CqJj65ra"
   },
   "source": [
    "Compute the nth percentile of the NumPy array"
   ]
  },
  {
   "cell_type": "code",
   "execution_count": 94,
   "metadata": {
    "colab": {
     "base_uri": "https://localhost:8080/"
    },
    "id": "Ccx9LL_w7QRO",
    "outputId": "09b9455b-9d9d-41b8-d121-1dcbeb5d1622"
   },
   "outputs": [
    {
     "data": {
      "text/plain": [
       "2.0"
      ]
     },
     "execution_count": 94,
     "metadata": {},
     "output_type": "execute_result"
    }
   ],
   "source": [
    "np.percentile(m1, q=50)"
   ]
  },
  {
   "cell_type": "markdown",
   "metadata": {
    "id": "u5V85Czm65xk"
   },
   "source": [
    "Calculate the n-th order discrete difference along the given axis"
   ]
  },
  {
   "cell_type": "code",
   "execution_count": 95,
   "metadata": {
    "colab": {
     "base_uri": "https://localhost:8080/"
    },
    "id": "6j9EEweB7TEe",
    "outputId": "9da9c261-013d-4a1f-bf90-49e03e737c94"
   },
   "outputs": [
    {
     "name": "stdout",
     "output_type": "stream",
     "text": [
      "[[-1 -3  2]\n",
      " [-2  3  2]] \n",
      "\n",
      "[[ 1  1]\n",
      " [-1  6]\n",
      " [ 4  5]]\n"
     ]
    }
   ],
   "source": [
    "m = np.diff(m1, axis=0)\n",
    "print(m,'\\n')\n",
    "m = np.diff(m1, axis=1)\n",
    "print(m)"
   ]
  },
  {
   "cell_type": "markdown",
   "metadata": {
    "id": "Xihq_4cb6514"
   },
   "source": [
    "Calculate the sum of all columns in a 2D NumPy array"
   ]
  },
  {
   "cell_type": "code",
   "execution_count": 96,
   "metadata": {
    "colab": {
     "base_uri": "https://localhost:8080/"
    },
    "id": "Z-tJVunx7VRE",
    "outputId": "3edea769-8cbc-4781-a504-2266e62a103d"
   },
   "outputs": [
    {
     "name": "stdout",
     "output_type": "stream",
     "text": [
      "[-1  3 15]\n"
     ]
    }
   ],
   "source": [
    "sum = np.sum(m1, axis=0)\n",
    "print(sum)"
   ]
  },
  {
   "cell_type": "markdown",
   "metadata": {
    "id": "cp4TP7iD656j"
   },
   "source": [
    "Calculate average values of two given NumPy arrays"
   ]
  },
  {
   "cell_type": "code",
   "execution_count": 97,
   "metadata": {
    "colab": {
     "base_uri": "https://localhost:8080/"
    },
    "id": "l--lIYDN7Xg0",
    "outputId": "3339bb93-e43c-4e00-c5ac-486b31f0a0ee"
   },
   "outputs": [
    {
     "name": "stdout",
     "output_type": "stream",
     "text": [
      "[[ 4.5  2.   4.5]\n",
      " [ 0.5 -0.5  4. ]\n",
      " [ 0.   0.5  3.5]]\n"
     ]
    }
   ],
   "source": [
    "avg = (m1 + m2) / 2\n",
    "print(avg)"
   ]
  },
  {
   "cell_type": "markdown",
   "metadata": {
    "id": "UJFfew3x66Av"
   },
   "source": [
    "How to compute numerical negative value for all elements in a given NumPy array?"
   ]
  },
  {
   "cell_type": "code",
   "execution_count": 98,
   "metadata": {
    "colab": {
     "base_uri": "https://localhost:8080/"
    },
    "id": "Sm-LUqgG7aME",
    "outputId": "5576b8c0-7a0f-493c-88ee-5b9eac2a65a5"
   },
   "outputs": [
    {
     "name": "stdout",
     "output_type": "stream",
     "text": [
      "[[-1 -2 -3]\n",
      " [ 0  1 -5]\n",
      " [ 2 -2 -7]]\n"
     ]
    }
   ],
   "source": [
    "negative_m1 = np.negative(m1)\n",
    "print(negative_m1)"
   ]
  },
  {
   "cell_type": "markdown",
   "metadata": {
    "id": "27K-RSpp66FO"
   },
   "source": [
    "How to get the floor, ceiling and truncated values of the elements of a numpy array?"
   ]
  },
  {
   "cell_type": "code",
   "execution_count": 99,
   "metadata": {
    "id": "eLStKFVI7cUi"
   },
   "outputs": [],
   "source": [
    "m = np.array([[1.9, 3.1], [-5.5, 0.2]])"
   ]
  },
  {
   "cell_type": "code",
   "execution_count": 100,
   "metadata": {
    "colab": {
     "base_uri": "https://localhost:8080/"
    },
    "id": "tPT7OSRh8XPp",
    "outputId": "7cf4cdca-3e41-4656-a4b6-43992da85dd9"
   },
   "outputs": [
    {
     "name": "stdout",
     "output_type": "stream",
     "text": [
      "[[ 1.  3.]\n",
      " [-6.  0.]] \n",
      "\n",
      " [[ 2.  4.]\n",
      " [-5.  1.]] \n",
      "\n",
      " [[ 1.  3.]\n",
      " [-5.  0.]]\n"
     ]
    }
   ],
   "source": [
    "floor_m = np.floor(m)\n",
    "ceiling_m = np.ceil(m)\n",
    "truncated_m = np.trunc(m)\n",
    "\n",
    "print(floor_m, '\\n\\n', ceiling_m, '\\n\\n', truncated_m)"
   ]
  },
  {
   "cell_type": "markdown",
   "metadata": {
    "id": "LIEQF6um66LD"
   },
   "source": [
    "How to round elements of the NumPy array to the nearest integer?"
   ]
  },
  {
   "cell_type": "code",
   "execution_count": 101,
   "metadata": {
    "colab": {
     "base_uri": "https://localhost:8080/"
    },
    "id": "wipPdLnR7eYb",
    "outputId": "e92dd99c-1a41-4be8-edc1-1830a2371610"
   },
   "outputs": [
    {
     "name": "stdout",
     "output_type": "stream",
     "text": [
      "[[ 2.  3.]\n",
      " [-6.  0.]]\n"
     ]
    }
   ],
   "source": [
    "round_m = np.round(m)\n",
    "print(round_m)"
   ]
  },
  {
   "cell_type": "markdown",
   "metadata": {
    "id": "VL2VHCxs66Ro"
   },
   "source": [
    "Find the round off the values of the given matrix"
   ]
  },
  {
   "cell_type": "code",
   "execution_count": 102,
   "metadata": {
    "colab": {
     "base_uri": "https://localhost:8080/"
    },
    "id": "YzePZkxh7hP6",
    "outputId": "f7a82e39-39cd-4dd5-ac18-bcf8fc96dd49"
   },
   "outputs": [
    {
     "name": "stdout",
     "output_type": "stream",
     "text": [
      "[[ 2.  3.]\n",
      " [-6.  0.]]\n"
     ]
    }
   ],
   "source": [
    "round_m = m.round()\n",
    "print(round_m)"
   ]
  },
  {
   "cell_type": "markdown",
   "metadata": {
    "id": "mMc-K5wy66Ut"
   },
   "source": [
    "Determine the positive square-root of an array"
   ]
  },
  {
   "cell_type": "code",
   "execution_count": 103,
   "metadata": {
    "id": "GWWuLFttAEBp"
   },
   "outputs": [],
   "source": [
    "m = np.array([[1.9, 3.1], [5.5, 0.2]])"
   ]
  },
  {
   "cell_type": "code",
   "execution_count": 104,
   "metadata": {
    "colab": {
     "base_uri": "https://localhost:8080/"
    },
    "id": "UQwASqFo7mJn",
    "outputId": "1c3f7392-b931-4b32-9a76-69a29d75fa05"
   },
   "outputs": [
    {
     "name": "stdout",
     "output_type": "stream",
     "text": [
      "[[1.37840488 1.76068169]\n",
      " [2.34520788 0.4472136 ]]\n"
     ]
    }
   ],
   "source": [
    "square_m = np.sqrt(np.positive(m))\n",
    "print(square_m)"
   ]
  },
  {
   "cell_type": "markdown",
   "metadata": {
    "id": "I3JX96mx66Y5"
   },
   "source": [
    "Evaluate Einstein’s summation convention of two multidimensional NumPy arrays"
   ]
  },
  {
   "cell_type": "code",
   "execution_count": 105,
   "metadata": {
    "colab": {
     "base_uri": "https://localhost:8080/"
    },
    "id": "AEWVWGTt7p3-",
    "outputId": "fd8ab78a-3dff-479f-c0bd-13e5e41bf16e"
   },
   "outputs": [
    {
     "name": "stdout",
     "output_type": "stream",
     "text": [
      "[[ 16  -1  12]\n",
      " [  9  -5  -3]\n",
      " [  0 -11  -6]]\n"
     ]
    }
   ],
   "source": [
    "result = np.einsum('mk,kn', m1, m2)\n",
    "print(result)"
   ]
  },
  {
   "cell_type": "markdown",
   "metadata": {
    "id": "JNH-BTc0B2QB"
   },
   "source": [
    "## Questions on NumPy Statistics"
   ]
  },
  {
   "cell_type": "code",
   "execution_count": 106,
   "metadata": {
    "id": "9N0Fxi5nPkrc"
   },
   "outputs": [],
   "source": [
    "m = np.array([[1, 2, 3], [0, -1, 5], [-2, 3, -7]])\n",
    "v1 = np.array([5, -8, 0, -1, -3, 9, 10, 3])\n",
    "v2 = np.array([2, 11, 1, 0, -8, 5, 3, -1])\n",
    "v3 = np.array([5, np.nan, 0, -1, -3, np.nan, 10, 3])"
   ]
  },
  {
   "cell_type": "markdown",
   "metadata": {
    "id": "TR9yeUsHB5Cl"
   },
   "source": [
    "Compute the median of the flattened NumPy array"
   ]
  },
  {
   "cell_type": "code",
   "execution_count": 107,
   "metadata": {
    "colab": {
     "base_uri": "https://localhost:8080/"
    },
    "id": "EXa_OLsICL11",
    "outputId": "c7d063f9-c347-4b38-9775-e5c4f5d009cf"
   },
   "outputs": [
    {
     "data": {
      "text/plain": [
       "1.0"
      ]
     },
     "execution_count": 107,
     "metadata": {},
     "output_type": "execute_result"
    }
   ],
   "source": [
    "np.median(m)"
   ]
  },
  {
   "cell_type": "markdown",
   "metadata": {
    "id": "Q4Emk-T7CIty"
   },
   "source": [
    "Find Mean of a List of Numpy Array"
   ]
  },
  {
   "cell_type": "code",
   "execution_count": 108,
   "metadata": {
    "colab": {
     "base_uri": "https://localhost:8080/"
    },
    "id": "xsYGNI_zCNx-",
    "outputId": "57be29b4-8047-4d5e-e4e1-7d14c27f138c"
   },
   "outputs": [
    {
     "data": {
      "text/plain": [
       "1.875"
      ]
     },
     "execution_count": 108,
     "metadata": {},
     "output_type": "execute_result"
    }
   ],
   "source": [
    "np.mean(v1)"
   ]
  },
  {
   "cell_type": "markdown",
   "metadata": {
    "id": "WdVxvjP7CIxt"
   },
   "source": [
    "Calculate the mean of array ignoring the NaN value"
   ]
  },
  {
   "cell_type": "code",
   "execution_count": 109,
   "metadata": {
    "colab": {
     "base_uri": "https://localhost:8080/"
    },
    "id": "JRu6fk0SCPlG",
    "outputId": "7447385f-8add-46fb-a4b8-8f5673fe540e"
   },
   "outputs": [
    {
     "data": {
      "text/plain": [
       "2.3333333333333335"
      ]
     },
     "execution_count": 109,
     "metadata": {},
     "output_type": "execute_result"
    }
   ],
   "source": [
    "np.nanmean(v3)"
   ]
  },
  {
   "cell_type": "markdown",
   "metadata": {
    "id": "jCoi-fMdCI2L"
   },
   "source": [
    "Get the mean value from given matrix"
   ]
  },
  {
   "cell_type": "code",
   "execution_count": 110,
   "metadata": {
    "colab": {
     "base_uri": "https://localhost:8080/"
    },
    "id": "7zoiU3Q2CRYE",
    "outputId": "46aa6bf8-3484-4a0a-cedc-a05715057624"
   },
   "outputs": [
    {
     "data": {
      "text/plain": [
       "0.4444444444444444"
      ]
     },
     "execution_count": 110,
     "metadata": {},
     "output_type": "execute_result"
    }
   ],
   "source": [
    "np.mean(m)"
   ]
  },
  {
   "cell_type": "markdown",
   "metadata": {
    "id": "pNX49fWTCI55"
   },
   "source": [
    "Compute the variance of the NumPy array"
   ]
  },
  {
   "cell_type": "code",
   "execution_count": 111,
   "metadata": {
    "colab": {
     "base_uri": "https://localhost:8080/"
    },
    "id": "sqPouILdCTIL",
    "outputId": "616cbe30-5f12-412a-e985-2777c1b365bd"
   },
   "outputs": [
    {
     "data": {
      "text/plain": [
       "32.609375"
      ]
     },
     "execution_count": 111,
     "metadata": {},
     "output_type": "execute_result"
    }
   ],
   "source": [
    "np.var(v1)"
   ]
  },
  {
   "cell_type": "markdown",
   "metadata": {
    "id": "m6wnH8PBCI9T"
   },
   "source": [
    "Compute the standard deviation of the NumPy array"
   ]
  },
  {
   "cell_type": "code",
   "execution_count": 112,
   "metadata": {
    "colab": {
     "base_uri": "https://localhost:8080/"
    },
    "id": "Dyko2HBtCVQt",
    "outputId": "6bacec8d-a515-4287-d2f4-27c6f9233509"
   },
   "outputs": [
    {
     "data": {
      "text/plain": [
       "5.71046189025021"
      ]
     },
     "execution_count": 112,
     "metadata": {},
     "output_type": "execute_result"
    }
   ],
   "source": [
    "np.std(v1)"
   ]
  },
  {
   "cell_type": "markdown",
   "metadata": {
    "id": "ntAjEo4dCJCy"
   },
   "source": [
    "Compute pearson product-moment correlation coefficients of two given NumPy arrays"
   ]
  },
  {
   "cell_type": "code",
   "execution_count": 113,
   "metadata": {
    "colab": {
     "base_uri": "https://localhost:8080/"
    },
    "id": "E9kazYtbCXYP",
    "outputId": "f01e038b-ad34-4603-ed38-de0b661dbe27"
   },
   "outputs": [
    {
     "name": "stdout",
     "output_type": "stream",
     "text": [
      "[[ 1.        -0.0276428]\n",
      " [-0.0276428  1.       ]]\n"
     ]
    }
   ],
   "source": [
    "coefficients = np.corrcoef(v1, v2)\n",
    "print(coefficients)"
   ]
  },
  {
   "cell_type": "markdown",
   "metadata": {
    "id": "jehDG_w_CJHH"
   },
   "source": [
    "Calculate the mean across dimension in a 2D NumPy array"
   ]
  },
  {
   "cell_type": "code",
   "execution_count": 114,
   "metadata": {
    "colab": {
     "base_uri": "https://localhost:8080/"
    },
    "id": "WOZhSx32CZND",
    "outputId": "e935567e-6917-47f2-a966-acda04881a94"
   },
   "outputs": [
    {
     "name": "stdout",
     "output_type": "stream",
     "text": [
      "[-0.33333333  1.33333333  0.33333333]\n"
     ]
    }
   ],
   "source": [
    "mean_0 = np.mean(m, axis=0)\n",
    "print(mean_0)"
   ]
  },
  {
   "cell_type": "code",
   "execution_count": 115,
   "metadata": {
    "colab": {
     "base_uri": "https://localhost:8080/"
    },
    "id": "2rffyPpAVG_V",
    "outputId": "00704852-0be3-4846-9f85-37c5399c25b9"
   },
   "outputs": [
    {
     "name": "stdout",
     "output_type": "stream",
     "text": [
      "[ 2.          1.33333333 -2.        ]\n"
     ]
    }
   ],
   "source": [
    "mean_1 = np.mean(m, axis=1)\n",
    "print(mean_1)"
   ]
  },
  {
   "cell_type": "markdown",
   "metadata": {
    "id": "cbwNw8AxCJMI"
   },
   "source": [
    "Calculate the average, variance and standard deviation in Python using NumPy"
   ]
  },
  {
   "cell_type": "code",
   "execution_count": 116,
   "metadata": {
    "colab": {
     "base_uri": "https://localhost:8080/"
    },
    "id": "7TlxEScOCbQR",
    "outputId": "52fdda5a-0324-4a38-8923-dfa4a3dc1f69"
   },
   "outputs": [
    {
     "name": "stdout",
     "output_type": "stream",
     "text": [
      "0.4444444444444444\n",
      "11.135802469135804\n",
      "3.337034981706935\n"
     ]
    }
   ],
   "source": [
    "print(np.average(m))\n",
    "print(np.var(m))\n",
    "print(np.std(m))"
   ]
  },
  {
   "cell_type": "markdown",
   "metadata": {
    "id": "nQQ0yWwgCJPY"
   },
   "source": [
    "Describe a NumPy Array in Python"
   ]
  },
  {
   "cell_type": "code",
   "execution_count": 117,
   "metadata": {
    "colab": {
     "base_uri": "https://localhost:8080/"
    },
    "id": "Fq6fQ0TxCcsq",
    "outputId": "dc36a6a0-ed4a-4fa0-fda5-25cec065a4ed"
   },
   "outputs": [
    {
     "name": "stdout",
     "output_type": "stream",
     "text": [
      "size: 9\n",
      "minimun: -7\n",
      "maximum: 5\n",
      "average: 0.4444444444444444\n",
      "median: 1.0\n",
      "variance: 11.135802469135804\n",
      "standard deviation: 3.337034981706935\n"
     ]
    }
   ],
   "source": [
    "print(f'size: {m.size}')\n",
    "print(f'minimun: {np.amin(m)}')\n",
    "print(f'maximum: {np.amax(m)}')\n",
    "print(f'average: {np.mean(m)}')\n",
    "print(f'median: {np.median(m)}')\n",
    "print(f'variance: {np.var(m)}')\n",
    "print(f'standard deviation: {np.std(m)}')"
   ]
  },
  {
   "cell_type": "markdown",
   "metadata": {
    "id": "upVTrpj2bt5H"
   },
   "source": [
    "## Questions on Polynomial"
   ]
  },
  {
   "cell_type": "markdown",
   "metadata": {
    "id": "QKP4cbe5bxBP"
   },
   "source": [
    "Define a polynomial function"
   ]
  },
  {
   "cell_type": "code",
   "execution_count": 118,
   "metadata": {
    "colab": {
     "base_uri": "https://localhost:8080/"
    },
    "id": "0OPRXJiXb4oL",
    "outputId": "3557e8c9-0cf8-4e23-a491-a346dbff5f60"
   },
   "outputs": [
    {
     "name": "stdout",
     "output_type": "stream",
     "text": [
      "   2\n",
      "1 x - 4 x + 1\n",
      "   3     2\n",
      "2 x - 1 x + 6\n"
     ]
    }
   ],
   "source": [
    "pf1 = np.poly1d([1, -4, 1])\n",
    "pf2 = np.poly1d([2, -1, 0, 6])\n",
    "print(pf1)\n",
    "print(pf2)"
   ]
  },
  {
   "cell_type": "markdown",
   "metadata": {
    "id": "rs3ZR9rFb1z2"
   },
   "source": [
    "How to add one polynomial to another using NumPy in Python?"
   ]
  },
  {
   "cell_type": "code",
   "execution_count": 119,
   "metadata": {
    "colab": {
     "base_uri": "https://localhost:8080/"
    },
    "id": "wPUkN4nhb6Qc",
    "outputId": "8f4aabef-417e-4173-8602-1261dc503628"
   },
   "outputs": [
    {
     "name": "stdout",
     "output_type": "stream",
     "text": [
      "   3\n",
      "2 x - 4 x + 7\n"
     ]
    }
   ],
   "source": [
    "sum = pf1 + pf2\n",
    "print(sum)"
   ]
  },
  {
   "cell_type": "markdown",
   "metadata": {
    "id": "g_PCMw57b183"
   },
   "source": [
    "How to subtract one polynomial to another using NumPy in Python?"
   ]
  },
  {
   "cell_type": "code",
   "execution_count": 120,
   "metadata": {
    "colab": {
     "base_uri": "https://localhost:8080/"
    },
    "id": "Y5qMDINPb773",
    "outputId": "9f306b6a-11eb-4698-eb4f-551d0339ca8c"
   },
   "outputs": [
    {
     "name": "stdout",
     "output_type": "stream",
     "text": [
      "    3     2\n",
      "-2 x + 2 x - 4 x - 5\n"
     ]
    }
   ],
   "source": [
    "subtraction = pf1 - pf2\n",
    "print(subtraction)"
   ]
  },
  {
   "cell_type": "markdown",
   "metadata": {
    "id": "cZJzZOezb2HP"
   },
   "source": [
    "How to multiply a polynomial to another using NumPy in Python?"
   ]
  },
  {
   "cell_type": "code",
   "execution_count": 121,
   "metadata": {
    "colab": {
     "base_uri": "https://localhost:8080/"
    },
    "id": "ZCY7_Okkb9ep",
    "outputId": "75238036-e1ab-400a-afe5-b5b1f64d71c6"
   },
   "outputs": [
    {
     "name": "stdout",
     "output_type": "stream",
     "text": [
      "   5     4     3     2\n",
      "2 x - 9 x + 6 x + 5 x - 24 x + 6\n"
     ]
    }
   ],
   "source": [
    "multiplication = pf1 * pf2\n",
    "print(multiplication)"
   ]
  },
  {
   "cell_type": "markdown",
   "metadata": {
    "id": "V5ir8LhZb2Oe"
   },
   "source": [
    "How to divide a polynomial to another using NumPy in Python?"
   ]
  },
  {
   "cell_type": "code",
   "execution_count": 122,
   "metadata": {
    "colab": {
     "base_uri": "https://localhost:8080/"
    },
    "id": "otpq9sFRb_NV",
    "outputId": "9f6f33c6-7686-4605-e521-3f3b8b2200a2"
   },
   "outputs": [
    {
     "name": "stdout",
     "output_type": "stream",
     "text": [
      "q(x) =  \n",
      "2 x + 7\n",
      "r(x) =  \n",
      "26 x - 1\n"
     ]
    }
   ],
   "source": [
    "quotient, rest = pf2 / pf1\n",
    "print(f'q(x) = {quotient}')\n",
    "print(f'r(x) = {rest}')"
   ]
  },
  {
   "cell_type": "markdown",
   "metadata": {
    "id": "_2djm4UKb2S5"
   },
   "source": [
    "Find the roots of the polynomials using NumPy"
   ]
  },
  {
   "cell_type": "code",
   "execution_count": 123,
   "metadata": {
    "colab": {
     "base_uri": "https://localhost:8080/"
    },
    "id": "isfT47PlcAs7",
    "outputId": "3c933872-d026-4a9e-e884-7b9c4c0e81b8"
   },
   "outputs": [
    {
     "name": "stdout",
     "output_type": "stream",
     "text": [
      "[3.73205081 0.26794919]\n"
     ]
    }
   ],
   "source": [
    "roots = np.roots(pf1)\n",
    "print(roots)"
   ]
  },
  {
   "cell_type": "markdown",
   "metadata": {
    "id": "fcjfKNDAb2al"
   },
   "source": [
    "Evaluate a 2-D polynomial series on the Cartesian product"
   ]
  },
  {
   "cell_type": "code",
   "execution_count": 124,
   "metadata": {
    "colab": {
     "base_uri": "https://localhost:8080/"
    },
    "id": "Bx0WMObNcCfz",
    "outputId": "da48ba5f-c8ac-4e6e-9433-093576e901c1"
   },
   "outputs": [
    {
     "name": "stdout",
     "output_type": "stream",
     "text": [
      "[[16. 33.]\n",
      " [26. 58.]]\n"
     ]
    }
   ],
   "source": [
    "m = np.array([[4, 2], [-5, 15]])\n",
    "ps = np.polynomial.polynomial.polygrid2d([1,2],[1,2], m)\n",
    "print(ps)"
   ]
  },
  {
   "cell_type": "markdown",
   "metadata": {
    "id": "cwILLOL_b2gZ"
   },
   "source": [
    "Evaluate a 3-D polynomial series on the Cartesian product"
   ]
  },
  {
   "cell_type": "code",
   "execution_count": 125,
   "metadata": {
    "colab": {
     "base_uri": "https://localhost:8080/"
    },
    "id": "Ij-oSG4lcEUY",
    "outputId": "58a0992d-adf7-49ff-d7d5-424a416e43ac"
   },
   "outputs": [
    {
     "name": "stdout",
     "output_type": "stream",
     "text": [
      "[[[ 28.  44.]\n",
      "  [ 46.  72.]]\n",
      "\n",
      " [[ 50.  78.]\n",
      "  [ 81. 126.]]]\n"
     ]
    }
   ],
   "source": [
    "m = np.arange(8).reshape(2, 2, 2)\n",
    "ps = np.polynomial.polynomial.polygrid3d([1,2],[1,2],[1,2],m)\n",
    "print(ps)"
   ]
  },
  {
   "cell_type": "markdown",
   "metadata": {
    "id": "gKHoE8eIm7Zh"
   },
   "source": [
    "## Questions on NumPy Strings"
   ]
  },
  {
   "cell_type": "markdown",
   "metadata": {
    "id": "ye_6xiMcm_rD"
   },
   "source": [
    "Repeat all the elements of a NumPy array of strings"
   ]
  },
  {
   "cell_type": "code",
   "execution_count": 126,
   "metadata": {
    "colab": {
     "base_uri": "https://localhost:8080/"
    },
    "id": "kso2mATQnPXo",
    "outputId": "dd93c916-9eb0-4a51-fda9-6c3fac0df0a6"
   },
   "outputs": [
    {
     "name": "stdout",
     "output_type": "stream",
     "text": [
      "['cadeiracadeiracadeira' 'JoãoJoãoJoão' 'BrasilBrasilBrasil' '252525']\n"
     ]
    }
   ],
   "source": [
    "strings = np.array(['cadeira', 'João', 'Brasil', '25'])\n",
    "\n",
    "new_strings = np.char.multiply(strings, 3)\n",
    "print(new_strings)"
   ]
  },
  {
   "cell_type": "markdown",
   "metadata": {
    "id": "US5GKgfunGuC"
   },
   "source": [
    "How to split the element of a given NumPy array with spaces?"
   ]
  },
  {
   "cell_type": "code",
   "execution_count": 127,
   "metadata": {
    "colab": {
     "base_uri": "https://localhost:8080/"
    },
    "id": "-Z0vlHvOpdv_",
    "outputId": "516eede9-9649-43cf-fdf0-250f4528ee11"
   },
   "outputs": [
    {
     "name": "stdout",
     "output_type": "stream",
     "text": [
      "['João', 'Paulo', 'Agostinho']\n"
     ]
    }
   ],
   "source": [
    "nome = np.array('João Paulo Agostinho')\n",
    "new_nome = np.char.split(nome)\n",
    "print(new_nome)"
   ]
  },
  {
   "cell_type": "markdown",
   "metadata": {
    "id": "SrDtVD4InGzf"
   },
   "source": [
    "How to insert a space between characters of all the elements of a given NumPy array?"
   ]
  },
  {
   "cell_type": "code",
   "execution_count": 128,
   "metadata": {
    "colab": {
     "base_uri": "https://localhost:8080/"
    },
    "id": "8rnDWUeVnTci",
    "outputId": "a5aa8235-8b7d-41c4-948b-1eb4557bd140"
   },
   "outputs": [
    {
     "name": "stdout",
     "output_type": "stream",
     "text": [
      "['c a d e i r a' 'J o ã o' 'B r a s i l' '2 5']\n"
     ]
    }
   ],
   "source": [
    "new_strings = np.char.join(' ', strings)\n",
    "print(new_strings)"
   ]
  },
  {
   "cell_type": "markdown",
   "metadata": {
    "id": "e807nrTnnG6C"
   },
   "source": [
    "Find the length of each string element in the Numpy array"
   ]
  },
  {
   "cell_type": "code",
   "execution_count": 129,
   "metadata": {
    "colab": {
     "base_uri": "https://localhost:8080/"
    },
    "id": "NtKCqTZ6nVzv",
    "outputId": "71615fd1-e345-409a-dd26-cb6cfcf585cd"
   },
   "outputs": [
    {
     "name": "stdout",
     "output_type": "stream",
     "text": [
      "[7 4 6 2]\n"
     ]
    }
   ],
   "source": [
    "length = np.char.str_len(strings)\n",
    "print(length)"
   ]
  },
  {
   "cell_type": "markdown",
   "metadata": {
    "id": "oSh1sqfMnG-2"
   },
   "source": [
    "Swap the case of an array of string"
   ]
  },
  {
   "cell_type": "code",
   "execution_count": 130,
   "metadata": {
    "colab": {
     "base_uri": "https://localhost:8080/"
    },
    "id": "EEot5r_0nYBq",
    "outputId": "536978de-ea3d-4c67-a395-caaa690e956b"
   },
   "outputs": [
    {
     "name": "stdout",
     "output_type": "stream",
     "text": [
      "['CADEIRA' 'jOÃO' 'bRASIL' '25']\n"
     ]
    }
   ],
   "source": [
    "new_strings = np.char.swapcase(strings)\n",
    "print(new_strings)"
   ]
  },
  {
   "cell_type": "markdown",
   "metadata": {
    "id": "FYT3lgkVnHCk"
   },
   "source": [
    "Change the case to uppercase of elements of an array"
   ]
  },
  {
   "cell_type": "code",
   "execution_count": 131,
   "metadata": {
    "colab": {
     "base_uri": "https://localhost:8080/"
    },
    "id": "iOuMZf9YnZ4y",
    "outputId": "05f270a9-9f10-47e0-8262-edc4f6b5ebaa"
   },
   "outputs": [
    {
     "name": "stdout",
     "output_type": "stream",
     "text": [
      "['CADEIRA' 'JOÃO' 'BRASIL' '25']\n"
     ]
    }
   ],
   "source": [
    "new_strings = np.char.upper(strings)\n",
    "print(new_strings)"
   ]
  },
  {
   "cell_type": "markdown",
   "metadata": {
    "id": "NzTdymgcnHFb"
   },
   "source": [
    "Change the case to lowercase of elements of an array"
   ]
  },
  {
   "cell_type": "code",
   "execution_count": 132,
   "metadata": {
    "colab": {
     "base_uri": "https://localhost:8080/"
    },
    "id": "p1djZW9wncKA",
    "outputId": "a42c841a-e3f4-4961-f1fc-12945761bc04"
   },
   "outputs": [
    {
     "name": "stdout",
     "output_type": "stream",
     "text": [
      "['cadeira' 'joão' 'brasil' '25']\n"
     ]
    }
   ],
   "source": [
    "new_strings = np.char.lower(strings)\n",
    "print(new_strings)"
   ]
  },
  {
   "cell_type": "markdown",
   "metadata": {
    "id": "-A3wampjnHIa"
   },
   "source": [
    "Join String by a seperator"
   ]
  },
  {
   "cell_type": "code",
   "execution_count": 133,
   "metadata": {
    "colab": {
     "base_uri": "https://localhost:8080/"
    },
    "id": "04ymhHzRneWr",
    "outputId": "82868600-deac-453a-ba3e-07447f40d768"
   },
   "outputs": [
    {
     "name": "stdout",
     "output_type": "stream",
     "text": [
      "João-Paulo-Agostinho\n"
     ]
    }
   ],
   "source": [
    "new_nome = np.char.replace(nome, ' ', '-')\n",
    "print(new_nome)"
   ]
  },
  {
   "cell_type": "markdown",
   "metadata": {
    "id": "K8D3F98MnHMM"
   },
   "source": [
    "Check if two same shaped string arrayss one by one"
   ]
  },
  {
   "cell_type": "code",
   "execution_count": 134,
   "metadata": {
    "colab": {
     "base_uri": "https://localhost:8080/"
    },
    "id": "sr3xwZmpng9e",
    "outputId": "ec199f5d-f62c-42b5-ee65-1cc558486eac"
   },
   "outputs": [
    {
     "data": {
      "text/plain": [
       "False"
      ]
     },
     "execution_count": 134,
     "metadata": {},
     "output_type": "execute_result"
    }
   ],
   "source": [
    "np.array_equal(strings, new_strings)"
   ]
  },
  {
   "cell_type": "markdown",
   "metadata": {
    "id": "ecpSJ1g6nHO7"
   },
   "source": [
    "Count the number of substrings in an array"
   ]
  },
  {
   "cell_type": "code",
   "execution_count": 135,
   "metadata": {
    "colab": {
     "base_uri": "https://localhost:8080/"
    },
    "id": "oOOfLIVNnirX",
    "outputId": "1976b4d7-f841-4ab8-c36a-319c1a89b8b1"
   },
   "outputs": [
    {
     "name": "stdout",
     "output_type": "stream",
     "text": [
      "[1 0 1 0]\n"
     ]
    }
   ],
   "source": [
    "ra_count= np.char.count(strings, 'ra')\n",
    "print(ra_count)"
   ]
  },
  {
   "cell_type": "markdown",
   "metadata": {
    "id": "OfEIRvy_nHT1"
   },
   "source": [
    "Find the lowest index of the substring in an array"
   ]
  },
  {
   "cell_type": "code",
   "execution_count": 136,
   "metadata": {
    "colab": {
     "base_uri": "https://localhost:8080/"
    },
    "id": "hESf0MvrnkjB",
    "outputId": "7b38f910-be52-427b-8f10-6397ec070056"
   },
   "outputs": [
    {
     "name": "stdout",
     "output_type": "stream",
     "text": [
      "1\n"
     ]
    }
   ],
   "source": [
    "lowest_index = np.char.find(strings, 'ra').argmin()\n",
    "print(lowest_index)"
   ]
  },
  {
   "cell_type": "markdown",
   "metadata": {
    "id": "_epHMDvtnHYZ"
   },
   "source": [
    "Get the boolean array when values end with a particular character"
   ]
  },
  {
   "cell_type": "code",
   "execution_count": 137,
   "metadata": {
    "colab": {
     "base_uri": "https://localhost:8080/"
    },
    "id": "UTDAcVHqnmXb",
    "outputId": "c09eeaf3-27fd-408c-b216-1466bc90d73c"
   },
   "outputs": [
    {
     "name": "stdout",
     "output_type": "stream",
     "text": [
      "[False False  True False]\n"
     ]
    }
   ],
   "source": [
    "m = np.char.endswith(strings, 'il')\n",
    "print(m)"
   ]
  },
  {
   "cell_type": "markdown",
   "metadata": {
    "id": "fyg96RNUnHcu"
   },
   "source": [
    "## More Questions on NumPy"
   ]
  },
  {
   "cell_type": "markdown",
   "metadata": {
    "id": "XXHf9xPKnHiH"
   },
   "source": [
    "Different ways to convert a Python dictionary to a NumPy array"
   ]
  },
  {
   "cell_type": "code",
   "execution_count": 138,
   "metadata": {
    "colab": {
     "base_uri": "https://localhost:8080/"
    },
    "id": "oPejiAxG1WM3",
    "outputId": "5b53a1a9-59b3-4bc2-af7a-e854f0554d9f"
   },
   "outputs": [
    {
     "name": "stdout",
     "output_type": "stream",
     "text": [
      "{'Alagoas': 'Maceió', 'Bahia': 'Salvador', 'Brasil': 'Brasília'}\n"
     ]
    }
   ],
   "source": [
    "capitais = {'Alagoas':'Maceió', 'Bahia':'Salvador', 'Brasil':'Brasília'}\n",
    "print(capitais)"
   ]
  },
  {
   "cell_type": "code",
   "execution_count": 139,
   "metadata": {
    "colab": {
     "base_uri": "https://localhost:8080/"
    },
    "id": "hx2orPS73bF4",
    "outputId": "b9c51570-166a-4fe4-bd13-2c10f7b34dcd"
   },
   "outputs": [
    {
     "name": "stdout",
     "output_type": "stream",
     "text": [
      "{'Alagoas': 'Maceió', 'Bahia': 'Salvador', 'Brasil': 'Brasília'}\n",
      "<class 'numpy.ndarray'>\n"
     ]
    }
   ],
   "source": [
    "arr_capitais = np.asarray(capitais)\n",
    "print(arr_capitais)\n",
    "print(type(arr_capitais))"
   ]
  },
  {
   "cell_type": "code",
   "execution_count": 140,
   "metadata": {
    "colab": {
     "base_uri": "https://localhost:8080/"
    },
    "id": "TsW88UsRnp_c",
    "outputId": "389879cc-5e01-46b1-9b2d-2aabd4d2335b"
   },
   "outputs": [
    {
     "name": "stdout",
     "output_type": "stream",
     "text": [
      "{'Alagoas': 'Maceió', 'Bahia': 'Salvador', 'Brasil': 'Brasília'}\n",
      "<class 'numpy.ndarray'>\n"
     ]
    }
   ],
   "source": [
    "arr_capitais = np.array(capitais)\n",
    "print(arr_capitais)\n",
    "print(type(arr_capitais))"
   ]
  },
  {
   "cell_type": "code",
   "execution_count": 141,
   "metadata": {
    "colab": {
     "base_uri": "https://localhost:8080/"
    },
    "id": "ZN-8NPJ53mCO",
    "outputId": "71798e29-eda1-47d2-ea06-01dee1baa30f"
   },
   "outputs": [
    {
     "name": "stdout",
     "output_type": "stream",
     "text": [
      "[['Alagoas' 'Maceió']\n",
      " ['Bahia' 'Salvador']\n",
      " ['Brasil' 'Brasília']]\n",
      "<class 'numpy.ndarray'>\n"
     ]
    }
   ],
   "source": [
    "arr_capitais = np.asarray(list(capitais.items()))\n",
    "print(arr_capitais)\n",
    "print(type(arr_capitais))"
   ]
  },
  {
   "cell_type": "code",
   "execution_count": 142,
   "metadata": {
    "colab": {
     "base_uri": "https://localhost:8080/"
    },
    "id": "EmuDAcGS1ZuF",
    "outputId": "e01eb103-4158-45ca-e5cc-9c1428ed5816"
   },
   "outputs": [
    {
     "name": "stdout",
     "output_type": "stream",
     "text": [
      "[['Alagoas' 'Maceió']\n",
      " ['Bahia' 'Salvador']\n",
      " ['Brasil' 'Brasília']]\n",
      "<class 'numpy.ndarray'>\n"
     ]
    }
   ],
   "source": [
    "arr_capitais = np.array(list(capitais.items()))\n",
    "print(arr_capitais)\n",
    "print(type(arr_capitais))"
   ]
  },
  {
   "cell_type": "markdown",
   "metadata": {
    "id": "tSHnKcpdnHl1"
   },
   "source": [
    "How to convert a list and tuple into NumPy arrays?"
   ]
  },
  {
   "cell_type": "code",
   "execution_count": 143,
   "metadata": {
    "colab": {
     "base_uri": "https://localhost:8080/"
    },
    "id": "e-ZjUToDnrq-",
    "outputId": "026fb72c-d490-4dfe-dd5a-0c12297c7c1c"
   },
   "outputs": [
    {
     "name": "stdout",
     "output_type": "stream",
     "text": [
      "[0 2 4 6 8]\n",
      "<class 'numpy.ndarray'>\n",
      "[1 3 5 7 9]\n",
      "<class 'numpy.ndarray'>\n"
     ]
    }
   ],
   "source": [
    "pares = [0, 2, 4, 6, 8]\n",
    "impares = (1, 3, 5, 7, 9)\n",
    "\n",
    "arr_pares = np.asarray(pares)\n",
    "arr_impares = np.asarray(impares)\n",
    "\n",
    "print(arr_pares)\n",
    "print(type(arr_pares))\n",
    "print(arr_impares)\n",
    "print(type(arr_impares))"
   ]
  },
  {
   "cell_type": "markdown",
   "metadata": {
    "id": "zjxlAaMTnHqZ"
   },
   "source": [
    "Ways to convert array of strings to array of floats"
   ]
  },
  {
   "cell_type": "code",
   "execution_count": 144,
   "metadata": {
    "colab": {
     "base_uri": "https://localhost:8080/"
    },
    "id": "NAOdQ-innuV2",
    "outputId": "b820942a-46ad-4263-dd64-ea7d3f8c31a9"
   },
   "outputs": [
    {
     "name": "stdout",
     "output_type": "stream",
     "text": [
      "[ 1.4  -2.    3.14  1.  ]\n"
     ]
    }
   ],
   "source": [
    "numbers = ['1.4', '-2', '3.14', '1.']\n",
    "arr_numbers = np.asarray(numbers).astype('float')\n",
    "print(arr_numbers)"
   ]
  },
  {
   "cell_type": "markdown",
   "metadata": {
    "id": "eK-sl7FrnHxc"
   },
   "source": [
    "Convert a NumPy array into a csv file"
   ]
  },
  {
   "cell_type": "code",
   "execution_count": 152,
   "metadata": {
    "colab": {
     "base_uri": "https://localhost:8080/"
    },
    "id": "nSY_l-O1nwSk",
    "outputId": "52e9a26b-6c61-4fef-be34-3313461eddc7"
   },
   "outputs": [
    {
     "name": "stdout",
     "output_type": "stream",
     "text": [
      "0.000000000000000000e+00 1.000000000000000000e+00 2.000000000000000000e+00 3.000000000000000000e+00\n",
      "4.000000000000000000e+00 5.000000000000000000e+00 6.000000000000000000e+00 7.000000000000000000e+00\n",
      "\n"
     ]
    }
   ],
   "source": [
    "v = np.arange(8).reshape(2, 4)\n",
    "np.savetxt('arr.csv', v)\n",
    "\n",
    "with open('arr.csv', 'r') as file:\n",
    "    data = file.read()\n",
    "    print(data)"
   ]
  },
  {
   "cell_type": "markdown",
   "metadata": {
    "id": "oILNaAdKnH3j"
   },
   "source": [
    "How to Convert an image to NumPy array and save it to CSV file using Python?"
   ]
  },
  {
   "cell_type": "code",
   "execution_count": 146,
   "metadata": {},
   "outputs": [],
   "source": [
    "import cv2\n",
    "\n",
    "image = cv2.imread('images/moon.jpg')\n",
    "image_2d = image.reshape(image.shape[0], -1)\n",
    "np.savetxt('moon.csv', image_2d)"
   ]
  },
  {
   "cell_type": "markdown",
   "metadata": {
    "id": "F9cDbsCUnH8S"
   },
   "source": [
    "How to save a NumPy array to a text file?"
   ]
  },
  {
   "cell_type": "code",
   "execution_count": 147,
   "metadata": {
    "colab": {
     "base_uri": "https://localhost:8080/"
    },
    "id": "HGjVC9gnnzx4",
    "outputId": "a4667cd9-33f9-47bb-eadd-91ced3be9bcf"
   },
   "outputs": [
    {
     "name": "stdout",
     "output_type": "stream",
     "text": [
      "1.000000000000000000e+00\n",
      "2.000000000000000000e+00\n",
      "3.000000000000000000e+00\n",
      "4.000000000000000000e+00\n",
      "5.000000000000000000e+00\n",
      "6.000000000000000000e+00\n",
      "7.000000000000000000e+00\n",
      "8.000000000000000000e+00\n",
      "9.000000000000000000e+00\n",
      "1.000000000000000000e+01\n",
      "\n"
     ]
    }
   ],
   "source": [
    "arr = np.arange(1,11)\n",
    "np.savetxt('arr.txt', arr)\n",
    "\n",
    "with open('arr.txt', 'r') as file:\n",
    "    data = file.read()\n",
    "    print(data)"
   ]
  },
  {
   "cell_type": "markdown",
   "metadata": {
    "id": "ub8eydS2nIBC"
   },
   "source": [
    "Load data from a text file"
   ]
  },
  {
   "cell_type": "code",
   "execution_count": 148,
   "metadata": {
    "colab": {
     "base_uri": "https://localhost:8080/"
    },
    "id": "9F7o3jheuf7K",
    "outputId": "5fbe18a3-e982-4da0-bb24-d3aa61954eb9"
   },
   "outputs": [
    {
     "name": "stdout",
     "output_type": "stream",
     "text": [
      "[ 1.  2.  3.  4.  5.  6.  7.  8.  9. 10.]\n"
     ]
    }
   ],
   "source": [
    "data = np.loadtxt('arr.txt')\n",
    "print(data)"
   ]
  },
  {
   "cell_type": "markdown",
   "metadata": {
    "id": "kQtcVSrJnIFz"
   },
   "source": [
    "Plot line graph from NumPy array"
   ]
  },
  {
   "cell_type": "code",
   "execution_count": 149,
   "metadata": {
    "id": "t7vlUy4Fg43w"
   },
   "outputs": [],
   "source": [
    "import matplotlib.pyplot as plt"
   ]
  },
  {
   "cell_type": "code",
   "execution_count": 150,
   "metadata": {
    "colab": {
     "base_uri": "https://localhost:8080/"
    },
    "id": "lTEfX6lVn4A4",
    "outputId": "60f30b54-4b1a-47b9-f78d-4398471e63a8"
   },
   "outputs": [
    {
     "data": {
      "image/png": "[encoded data removed]",
      "text/plain": [
       "<Figure size 432x288 with 1 Axes>"
      ]
     },
     "metadata": {
      "needs_background": "light"
     },
     "output_type": "display_data"
    }
   ],
   "source": [
    "x = np.arange(-10,11)\n",
    "y = np.array([i**3 for i in x])\n",
    "\n",
    "plt.plot(x, y)\n",
    "plt.title(\"Line graph\")\n",
    "plt.xlabel('x')\n",
    "plt.ylabel('f(x) = x³')\n",
    "plt.show()"
   ]
  },
  {
   "cell_type": "markdown",
   "metadata": {
    "id": "8Adshtn1nIJ3"
   },
   "source": [
    "Create Histogram using NumPy"
   ]
  },
  {
   "cell_type": "code",
   "execution_count": 151,
   "metadata": {
    "colab": {
     "base_uri": "https://localhost:8080/"
    },
    "id": "apQ2mqAFn5qa",
    "outputId": "f3b2f52c-9cf9-4ebe-aead-34c4edc4cc30"
   },
   "outputs": [
    {
     "data": {
      "image/png": "[encoded data removed]",
      "text/plain": [
       "<Figure size 432x288 with 1 Axes>"
      ]
     },
     "metadata": {
      "needs_background": "light"
     },
     "output_type": "display_data"
    }
   ],
   "source": [
    "rng = np.random.default_rng().random(100)\n",
    "plt.hist(rng)\n",
    "plt.show()"
   ]
  }
 ],
 "metadata": {
  "colab": {
   "collapsed_sections": [
    "IdZZqUF042tA",
    "re5zPRb5S-24",
    "UtH3RFf6zqdH",
    "ifE-DdVQLb9X",
    "boi0srS3PPYD",
    "AFGqyzwnZt0s",
    "9Fxn0SmAkT8G",
    "JNH-BTc0B2QB",
    "upVTrpj2bt5H",
    "gKHoE8eIm7Zh",
    "fyg96RNUnHcu"
   ],
   "name": "lista_NumPy",
   "provenance": []
  },
  "kernelspec": {
   "display_name": "Python 3.8.10 64-bit",
   "language": "python",
   "name": "python3"
  },
  "language_info": {
   "codemirror_mode": {
    "name": "ipython",
    "version": 3
   },
   "file_extension": ".py",
   "mimetype": "text/x-python",
   "name": "python",
   "nbconvert_exporter": "python",
   "pygments_lexer": "ipython3",
   "version": "3.8.10"
  },
  "vscode": {
   "interpreter": {
    "hash": "916dbcbb3f70747c44a77c7bcd40155683ae19c65e1c03b4aa3499c5328201f1"
   }
  }
 },
 "nbformat": 4,
 "nbformat_minor": 1
}
